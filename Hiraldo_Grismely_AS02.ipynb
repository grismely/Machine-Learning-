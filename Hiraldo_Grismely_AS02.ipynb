{
 "cells": [
  {
   "cell_type": "markdown",
   "id": "c68de540",
   "metadata": {},
   "source": [
    "Assignment 2\n",
    "Author: Grismely M. Hiraldo\n"
   ]
  },
  {
   "cell_type": "code",
   "execution_count": 25,
   "id": "9f579adb",
   "metadata": {},
   "outputs": [],
   "source": [
    "import numpy as np\n",
    "import matplotlib.pyplot as plt \n",
    "from mpl_toolkits import mplot3d\n",
    "from sklearn import datasets\n",
    "from sklearn.linear_model import Perceptron\n",
    "from sklearn.linear_model import SGDClassifier"
   ]
  },
  {
   "cell_type": "code",
   "execution_count": 26,
   "id": "3ea20528",
   "metadata": {},
   "outputs": [],
   "source": [
    "# import the Iris data set\n",
    "\n",
    "iris = datasets.load_iris()\n",
    "X = iris.data\n",
    "Y = iris.target\n",
    "Xzeros0 = (0. * X) + .2\n",
    "Xzeros1 = (0. * X) \n",
    "Xzeros2 = (0. * X) - .2\n",
    "x_min, x_max = X.min() - 0.5, X.max() + 1.5"
   ]
  },
  {
   "cell_type": "markdown",
   "id": "e8b9373e",
   "metadata": {},
   "source": [
    "# Classifications"
   ]
  },
  {
   "cell_type": "code",
   "execution_count": 28,
   "id": "7dd67eae",
   "metadata": {},
   "outputs": [
    {
     "name": "stdout",
     "output_type": "stream",
     "text": [
      "0 o Setosa red pink\n",
      "1 x Versicolor blue lightblue\n",
      "2 * Virginica green lightgreen\n"
     ]
    }
   ],
   "source": [
    "# get Iris classifications\n",
    "\n",
    "IC = np.unique(Y)\n",
    "IrisC = ('Setosa','Versicolor','Virginica')\n",
    "pltC = ('red', 'blue', 'green')\n",
    "pltCback = ('pink', 'lightblue','lightgreen')\n",
    "pltM = ('o', 'x', '*')\n",
    "for i in range(0,3):\n",
    "    print (IC[i],pltM[i],IrisC[i],pltC[i],pltCback[i])"
   ]
  },
  {
   "cell_type": "markdown",
   "id": "14fe9628",
   "metadata": {},
   "source": [
    "# Features"
   ]
  },
  {
   "cell_type": "code",
   "execution_count": 29,
   "id": "9d33d71a",
   "metadata": {},
   "outputs": [
    {
     "name": "stdout",
     "output_type": "stream",
     "text": [
      "sepal length (cm)\n",
      "sepal width (cm)\n",
      "petal length (cm)\n",
      "petal width (cm)\n"
     ]
    }
   ],
   "source": [
    "# setup Iris feature lablels\n",
    "\n",
    "IrisF=(\"sepal length (cm)\", \"sepal width (cm)\", \"petal length (cm)\", \"petal width (cm)\")\n",
    "for i in range(0,4):\n",
    "    print(IrisF[i])\n"
   ]
  },
  {
   "cell_type": "code",
   "execution_count": 30,
   "id": "1f33397a",
   "metadata": {},
   "outputs": [],
   "source": [
    "# now choose the classes and features to be modeled.\n",
    "\n",
    "# note that if more than two classes are specified, scikit learn will use a multiclass model."
   ]
  },
  {
   "cell_type": "markdown",
   "id": "9a10c239",
   "metadata": {},
   "source": [
    "# Two Classes "
   ]
  },
  {
   "cell_type": "markdown",
   "id": "2b540fc3",
   "metadata": {},
   "source": [
    "## A) Setosa and Versicolor\n",
    "\n",
    "### One Feature\n",
    "\n",
    "#### 1. Sepal Length (cm)"
   ]
  },
  {
   "cell_type": "code",
   "execution_count": 31,
   "id": "9dffd873",
   "metadata": {},
   "outputs": [
    {
     "name": "stdout",
     "output_type": "stream",
     "text": [
      "\n",
      "Score:  0.5\n"
     ]
    }
   ],
   "source": [
    "# choose the classes and features to be included in the model\n",
    "\n",
    "cdx = np.array([0,1])             # this array contains the classes to be considered (can be 2-3 classes)\n",
    "fdx = np.array([0])           # this array contains the features to be considered (can be 1-4 features)\n",
    "\n",
    "nC = len(cdx)\n",
    "nF = len(fdx)\n",
    "\n",
    "# build the XX and YY arrays\n",
    "# these arrays contain the samples in the classes specified in cdx and include the features specified in fdx\n",
    "\n",
    "i = 0\n",
    "numY = 0\n",
    "for i in range(len(Y)):\n",
    "    for j in range(nC):\n",
    "        if Y[i] == IC[cdx[j]]:\n",
    "            numY += 1\n",
    "\n",
    "YY = np.zeros((numY))\n",
    "XX = np.zeros((numY,nF))\n",
    "if (len(fdx) == 1):\n",
    "    XXzeros0 = (0. * XX) + .2\n",
    "    XXzeros1 = (0. * XX) \n",
    "    XXzeros2 = (0. * XX) - .2\n",
    "\n",
    "j = 0\n",
    "for i in range(len(Y)):\n",
    "    for k in range(nC):\n",
    "        if Y[i] == IC[cdx[k]]:        \n",
    "            YY[j] = IC[cdx[k]]\n",
    "            for m in range(nF):\n",
    "                XX[j,m] = X[i,fdx[m]] \n",
    "            j += 1\n",
    "            \n",
    "# fit the model\n",
    "\n",
    "# clf = Perceptron(tol=1e-4, random_state=0)\n",
    "clf = SGDClassifier(tol=1e-4, random_state=0)\n",
    "\n",
    "clf.fit(XX,YY)\n",
    "\n",
    "print('\\nScore: ',clf.score(XX,YY))\n"
   ]
  },
  {
   "cell_type": "markdown",
   "id": "68916be1",
   "metadata": {},
   "source": [
    "The accuracy of the model on the subset of the data used for this pair is only .5, which can be intereppted as the model not being very accurate on this particular combination of features."
   ]
  },
  {
   "cell_type": "markdown",
   "id": "fbfd241a",
   "metadata": {},
   "source": [
    "#### 2. Sepal Width (cm)"
   ]
  },
  {
   "cell_type": "code",
   "execution_count": 32,
   "id": "8ed61737",
   "metadata": {},
   "outputs": [
    {
     "name": "stdout",
     "output_type": "stream",
     "text": [
      "\n",
      "Score:  0.82\n"
     ]
    }
   ],
   "source": [
    "# choose the classes and features to be included in the model\n",
    "\n",
    "cdx = np.array([0,1])             # this array contains the classes to be considered (can be 2-3 classes)\n",
    "fdx = np.array([1])           # this array contains the features to be considered (can be 1-4 features)\n",
    "\n",
    "nC = len(cdx)\n",
    "nF = len(fdx)\n",
    "\n",
    "# build the XX and YY arrays\n",
    "# these arrays contain the samples in the classes specified in cdx and include the features specified in fdx\n",
    "\n",
    "i = 0\n",
    "numY = 0\n",
    "for i in range(len(Y)):\n",
    "    for j in range(nC):\n",
    "        if Y[i] == IC[cdx[j]]:\n",
    "            numY += 1\n",
    "\n",
    "YY = np.zeros((numY))\n",
    "XX = np.zeros((numY,nF))\n",
    "if (len(fdx) == 1):\n",
    "    XXzeros0 = (0. * XX) + .2\n",
    "    XXzeros1 = (0. * XX) \n",
    "    XXzeros2 = (0. * XX) - .2\n",
    "\n",
    "j = 0\n",
    "for i in range(len(Y)):\n",
    "    for k in range(nC):\n",
    "        if Y[i] == IC[cdx[k]]:        \n",
    "            YY[j] = IC[cdx[k]]\n",
    "            for m in range(nF):\n",
    "                XX[j,m] = X[i,fdx[m]] \n",
    "            j += 1\n",
    "\n",
    "# fit the model\n",
    "\n",
    "# clf = Perceptron(tol=1e-4, random_state=0)\n",
    "clf = SGDClassifier(tol=1e-4, random_state=0) # creating the model\n",
    "\n",
    "#XX is the features that we are training on the classifications of all the 150 samples. YY contains all the smaples\n",
    "#num of XX = num of YY\n",
    "clf.fit(XX,YY)\n",
    "\n",
    "print('\\nScore: ',clf.score(XX,YY))\n"
   ]
  },
  {
   "cell_type": "markdown",
   "id": "0f7321c9",
   "metadata": {},
   "source": [
    "The accuracy of the model on the subset of the data used for this pair is 0.82, this is signficantly higher than it was for sepal length as the feature, the model was able to more accurately recognize this feature combination than the previous one."
   ]
  },
  {
   "cell_type": "markdown",
   "id": "46fa0e48",
   "metadata": {},
   "source": [
    "#### 3. Petal Length (cm)"
   ]
  },
  {
   "cell_type": "code",
   "execution_count": 33,
   "id": "09443497",
   "metadata": {},
   "outputs": [
    {
     "name": "stdout",
     "output_type": "stream",
     "text": [
      "\n",
      "Score:  1.0\n"
     ]
    }
   ],
   "source": [
    "# choose the classes and features to be included in the model\n",
    "\n",
    "cdx = np.array([0,1])             # this array contains the classes to be considered (can be 2-3 classes)\n",
    "fdx = np.array([2])           # this array contains the features to be considered (can be 1-4 features)\n",
    "\n",
    "nC = len(cdx)\n",
    "nF = len(fdx)\n",
    "\n",
    "# build the XX and YY arrays\n",
    "# these arrays contain the samples in the classes specified in cdx and include the features specified in fdx\n",
    "\n",
    "i = 0\n",
    "numY = 0\n",
    "for i in range(len(Y)):\n",
    "    for j in range(nC):\n",
    "        if Y[i] == IC[cdx[j]]:\n",
    "            numY += 1\n",
    "\n",
    "YY = np.zeros((numY))\n",
    "XX = np.zeros((numY,nF))\n",
    "if (len(fdx) == 1):\n",
    "    XXzeros0 = (0. * XX) + .2\n",
    "    XXzeros1 = (0. * XX) \n",
    "    XXzeros2 = (0. * XX) - .2\n",
    "\n",
    "j = 0\n",
    "for i in range(len(Y)):\n",
    "    for k in range(nC):\n",
    "        if Y[i] == IC[cdx[k]]:        \n",
    "            YY[j] = IC[cdx[k]]\n",
    "            for m in range(nF):\n",
    "                XX[j,m] = X[i,fdx[m]] \n",
    "            j += 1\n",
    "\n",
    "# fit the model\n",
    "\n",
    "# clf = Perceptron(tol=1e-4, random_state=0)\n",
    "clf = SGDClassifier(tol=1e-4, random_state=0) # creating the model\n",
    "\n",
    "#XX is the features that we are training on the classifications of all the 150 samples. YY contains all the smaples\n",
    "#num of XX = num of YY\n",
    "clf.fit(XX,YY)\n",
    "\n",
    "print('\\nScore: ',clf.score(XX,YY))"
   ]
  },
  {
   "cell_type": "markdown",
   "id": "8200ca97",
   "metadata": {},
   "source": [
    "The first 1.0 score, up until this point this would be the highest score and most accurate occurance of the model over a subdata combination. "
   ]
  },
  {
   "cell_type": "markdown",
   "id": "76cb5942",
   "metadata": {},
   "source": [
    "#### 4. Petal  Width (cm)"
   ]
  },
  {
   "cell_type": "code",
   "execution_count": 34,
   "id": "ec59139d",
   "metadata": {},
   "outputs": [
    {
     "name": "stdout",
     "output_type": "stream",
     "text": [
      "\n",
      "Score:  1.0\n"
     ]
    }
   ],
   "source": [
    "# choose the classes and features to be included in the model\n",
    "\n",
    "cdx = np.array([0,1])             # this array contains the classes to be considered (can be 2-3 classes)\n",
    "fdx = np.array([3])           # this array contains the features to be considered (can be 1-4 features)\n",
    "\n",
    "nC = len(cdx)\n",
    "nF = len(fdx)\n",
    "\n",
    "# build the XX and YY arrays\n",
    "# these arrays contain the samples in the classes specified in cdx and include the features specified in fdx\n",
    "\n",
    "i = 0\n",
    "numY = 0\n",
    "for i in range(len(Y)):\n",
    "    for j in range(nC):\n",
    "        if Y[i] == IC[cdx[j]]:\n",
    "            numY += 1\n",
    "\n",
    "YY = np.zeros((numY))\n",
    "XX = np.zeros((numY,nF))\n",
    "if (len(fdx) == 1):\n",
    "    XXzeros0 = (0. * XX) + .2\n",
    "    XXzeros1 = (0. * XX) \n",
    "    XXzeros2 = (0. * XX) - .2\n",
    "\n",
    "j = 0\n",
    "for i in range(len(Y)):\n",
    "    for k in range(nC):\n",
    "        if Y[i] == IC[cdx[k]]:        \n",
    "            YY[j] = IC[cdx[k]]\n",
    "            for m in range(nF):\n",
    "                XX[j,m] = X[i,fdx[m]] \n",
    "            j += 1\n",
    "\n",
    "# fit the model\n",
    "\n",
    "# clf = Perceptron(tol=1e-4, random_state=0)\n",
    "clf = SGDClassifier(tol=1e-4, random_state=0) # creating the model\n",
    "\n",
    "#XX is the features that we are training on the classifications of all the 150 samples. YY contains all the smaples\n",
    "#num of XX = num of YY\n",
    "clf.fit(XX,YY)\n",
    "\n",
    "print('\\nScore: ',clf.score(XX,YY))"
   ]
  },
  {
   "cell_type": "markdown",
   "id": "32a236ce",
   "metadata": {},
   "source": [
    "The accuracy of the model on the subset of the data used for this pair is 1.0, this score of 100% tells us that that the overall model could be a good model despite the lower score with the first pair as we are now starting to see 100% acuracy over some of the subsets/feature combinations."
   ]
  },
  {
   "cell_type": "markdown",
   "id": "b1048854",
   "metadata": {},
   "source": [
    "### Two Features\n",
    "\n",
    "#### 5. Sepal Length & Sepal Width"
   ]
  },
  {
   "cell_type": "code",
   "execution_count": 35,
   "id": "23beaa53",
   "metadata": {},
   "outputs": [
    {
     "name": "stdout",
     "output_type": "stream",
     "text": [
      "\n",
      "Score:  0.99\n"
     ]
    }
   ],
   "source": [
    "# choose the classes and features to be included in the model\n",
    "\n",
    "cdx = np.array([0,1])             # this array contains the classes to be considered (can be 2-3 classes)\n",
    "fdx = np.array([0,1])           # this array contains the features to be considered (can be 1-4 features)\n",
    "\n",
    "nC = len(cdx)\n",
    "nF = len(fdx)\n",
    "\n",
    "# build the XX and YY arrays\n",
    "# these arrays contain the samples in the classes specified in cdx and include the features specified in fdx\n",
    "\n",
    "i = 0\n",
    "numY = 0\n",
    "for i in range(len(Y)):\n",
    "    for j in range(nC):\n",
    "        if Y[i] == IC[cdx[j]]:\n",
    "            numY += 1\n",
    "\n",
    "YY = np.zeros((numY))\n",
    "XX = np.zeros((numY,nF))\n",
    "if (len(fdx) == 1):\n",
    "    XXzeros0 = (0. * XX) + .2\n",
    "    XXzeros1 = (0. * XX) \n",
    "    XXzeros2 = (0. * XX) - .2\n",
    "\n",
    "j = 0\n",
    "for i in range(len(Y)):\n",
    "    for k in range(nC):\n",
    "        if Y[i] == IC[cdx[k]]:        \n",
    "            YY[j] = IC[cdx[k]]\n",
    "            for m in range(nF):\n",
    "                XX[j,m] = X[i,fdx[m]] \n",
    "            j += 1\n",
    "\n",
    "# fit the model\n",
    "\n",
    "# clf = Perceptron(tol=1e-4, random_state=0)\n",
    "clf = SGDClassifier(tol=1e-4, random_state=0) # creating the model\n",
    "\n",
    "#XX is the features that we are training on the classifications of all the 150 samples. YY contains all the smaples\n",
    "#num of XX = num of YY\n",
    "clf.fit(XX,YY)\n",
    "\n",
    "print('\\nScore: ',clf.score(XX,YY))"
   ]
  },
  {
   "cell_type": "markdown",
   "id": "8e73faaf",
   "metadata": {},
   "source": [
    "The accuracy of the model on the subset of the data used for this pair is 0.99 it is nearly 100% accurate which furter supports my claim that the model may be an overall good model as we were seeing 100% accuracy or at high scores. This is the first of the two feature subset so it also may result that the model is trained more accurately over the two feature subset than the single feature subset."
   ]
  },
  {
   "cell_type": "markdown",
   "id": "721770fb",
   "metadata": {},
   "source": [
    "#### 6. Sepal Length & Petal Length"
   ]
  },
  {
   "cell_type": "code",
   "execution_count": 36,
   "id": "e532c554",
   "metadata": {},
   "outputs": [
    {
     "name": "stdout",
     "output_type": "stream",
     "text": [
      "\n",
      "Score:  1.0\n"
     ]
    }
   ],
   "source": [
    "# choose the classes and features to be included in the model\n",
    "\n",
    "cdx = np.array([0,1])             # this array contains the classes to be considered (can be 2-3 classes)\n",
    "fdx = np.array([0,2])           # this array contains the features to be considered (can be 1-4 features)\n",
    "\n",
    "nC = len(cdx)\n",
    "nF = len(fdx)\n",
    "\n",
    "# build the XX and YY arrays\n",
    "# these arrays contain the samples in the classes specified in cdx and include the features specified in fdx\n",
    "\n",
    "i = 0\n",
    "numY = 0\n",
    "for i in range(len(Y)):\n",
    "    for j in range(nC):\n",
    "        if Y[i] == IC[cdx[j]]:\n",
    "            numY += 1\n",
    "\n",
    "YY = np.zeros((numY))\n",
    "XX = np.zeros((numY,nF))\n",
    "if (len(fdx) == 1):\n",
    "    XXzeros0 = (0. * XX) + .2\n",
    "    XXzeros1 = (0. * XX) \n",
    "    XXzeros2 = (0. * XX) - .2\n",
    "\n",
    "j = 0\n",
    "for i in range(len(Y)):\n",
    "    for k in range(nC):\n",
    "        if Y[i] == IC[cdx[k]]:        \n",
    "            YY[j] = IC[cdx[k]]\n",
    "            for m in range(nF):\n",
    "                XX[j,m] = X[i,fdx[m]] \n",
    "            j += 1\n",
    "\n",
    "# fit the model\n",
    "\n",
    "# clf = Perceptron(tol=1e-4, random_state=0)\n",
    "clf = SGDClassifier(tol=1e-4, random_state=0) # creating the model\n",
    "\n",
    "#XX is the features that we are training on the classifications of all the 150 samples. YY contains all the smaples\n",
    "#num of XX = num of YY\n",
    "clf.fit(XX,YY)\n",
    "\n",
    "print('\\nScore: ',clf.score(XX,YY))"
   ]
  },
  {
   "cell_type": "markdown",
   "id": "56a3a3d6",
   "metadata": {},
   "source": [
    "A score of 1.0 meaning 100% accuracy for the model over this subset of the data, I think at this point in time I would assume that the model will reveal to have 100% or nearing 100% accuracy for the rest of the subset."
   ]
  },
  {
   "cell_type": "markdown",
   "id": "0bb98af7",
   "metadata": {},
   "source": [
    "#### 7.Sepal Length & Petal Width"
   ]
  },
  {
   "cell_type": "code",
   "execution_count": 37,
   "id": "fc6b9f30",
   "metadata": {},
   "outputs": [
    {
     "name": "stdout",
     "output_type": "stream",
     "text": [
      "\n",
      "Score:  1.0\n"
     ]
    }
   ],
   "source": [
    "# choose the classes and features to be included in the model\n",
    "\n",
    "cdx = np.array([0,1])             # this array contains the classes to be considered (can be 2-3 classes)\n",
    "fdx = np.array([0,3])           # this array contains the features to be considered (can be 1-4 features)\n",
    "\n",
    "nC = len(cdx)\n",
    "nF = len(fdx)\n",
    "\n",
    "# build the XX and YY arrays\n",
    "# these arrays contain the samples in the classes specified in cdx and include the features specified in fdx\n",
    "\n",
    "i = 0\n",
    "numY = 0\n",
    "for i in range(len(Y)):\n",
    "    for j in range(nC):\n",
    "        if Y[i] == IC[cdx[j]]:\n",
    "            numY += 1\n",
    "\n",
    "YY = np.zeros((numY))\n",
    "XX = np.zeros((numY,nF))\n",
    "if (len(fdx) == 1):\n",
    "    XXzeros0 = (0. * XX) + .2\n",
    "    XXzeros1 = (0. * XX) \n",
    "    XXzeros2 = (0. * XX) - .2\n",
    "\n",
    "j = 0\n",
    "for i in range(len(Y)):\n",
    "    for k in range(nC):\n",
    "        if Y[i] == IC[cdx[k]]:        \n",
    "            YY[j] = IC[cdx[k]]\n",
    "            for m in range(nF):\n",
    "                XX[j,m] = X[i,fdx[m]] \n",
    "            j += 1\n",
    "\n",
    "# fit the model\n",
    "\n",
    "# clf = Perceptron(tol=1e-4, random_state=0)\n",
    "clf = SGDClassifier(tol=1e-4, random_state=0) # creating the model\n",
    "\n",
    "#XX is the features that we are training on the classifications of all the 150 samples. YY contains all the smaples\n",
    "#num of XX = num of YY\n",
    "clf.fit(XX,YY)\n",
    "\n",
    "print('\\nScore: ',clf.score(XX,YY))"
   ]
  },
  {
   "cell_type": "markdown",
   "id": "1c20954d",
   "metadata": {},
   "source": [
    "The score supports my previous claim of the model over this particular subset."
   ]
  },
  {
   "cell_type": "markdown",
   "id": "16bb6ca7",
   "metadata": {},
   "source": [
    "#### 8. Sepal width & Petal length"
   ]
  },
  {
   "cell_type": "code",
   "execution_count": 38,
   "id": "2fa4c908",
   "metadata": {},
   "outputs": [
    {
     "name": "stdout",
     "output_type": "stream",
     "text": [
      "\n",
      "Score:  1.0\n"
     ]
    }
   ],
   "source": [
    "# choose the classes and features to be included in the model\n",
    "\n",
    "cdx = np.array([0,1])             # this array contains the classes to be considered (can be 2-3 classes)\n",
    "fdx = np.array([1,2])           # this array contains the features to be considered (can be 1-4 features)\n",
    "\n",
    "nC = len(cdx)\n",
    "nF = len(fdx)\n",
    "\n",
    "# build the XX and YY arrays\n",
    "# these arrays contain the samples in the classes specified in cdx and include the features specified in fdx\n",
    "\n",
    "i = 0\n",
    "numY = 0\n",
    "for i in range(len(Y)):\n",
    "    for j in range(nC):\n",
    "        if Y[i] == IC[cdx[j]]:\n",
    "            numY += 1\n",
    "\n",
    "YY = np.zeros((numY))\n",
    "XX = np.zeros((numY,nF))\n",
    "if (len(fdx) == 1):\n",
    "    XXzeros0 = (0. * XX) + .2\n",
    "    XXzeros1 = (0. * XX) \n",
    "    XXzeros2 = (0. * XX) - .2\n",
    "\n",
    "j = 0\n",
    "for i in range(len(Y)):\n",
    "    for k in range(nC):\n",
    "        if Y[i] == IC[cdx[k]]:        \n",
    "            YY[j] = IC[cdx[k]]\n",
    "            for m in range(nF):\n",
    "                XX[j,m] = X[i,fdx[m]] \n",
    "            j += 1\n",
    "\n",
    "# fit the model\n",
    "\n",
    "# clf = Perceptron(tol=1e-4, random_state=0)\n",
    "clf = SGDClassifier(tol=1e-4, random_state=0) # creating the model\n",
    "\n",
    "#XX is the features that we are training on the classifications of all the 150 samples. YY contains all the smaples\n",
    "#num of XX = num of YY\n",
    "clf.fit(XX,YY)\n",
    "\n",
    "print('\\nScore: ',clf.score(XX,YY))"
   ]
  },
  {
   "cell_type": "markdown",
   "id": "2c94b3f2",
   "metadata": {},
   "source": [
    "The score supports my previous claim of the model over this particular subset."
   ]
  },
  {
   "cell_type": "markdown",
   "id": "a7346e99",
   "metadata": {},
   "source": [
    "#### 9. Sepal Width & Petal Width"
   ]
  },
  {
   "cell_type": "code",
   "execution_count": 39,
   "id": "5f08406f",
   "metadata": {},
   "outputs": [
    {
     "name": "stdout",
     "output_type": "stream",
     "text": [
      "\n",
      "Score:  1.0\n"
     ]
    }
   ],
   "source": [
    "# choose the classes and features to be included in the model\n",
    "\n",
    "cdx = np.array([0,1])             # this array contains the classes to be considered (can be 2-3 classes)\n",
    "fdx = np.array([1,3])           # this array contains the features to be considered (can be 1-4 features)\n",
    "\n",
    "nC = len(cdx)\n",
    "nF = len(fdx)\n",
    "\n",
    "# build the XX and YY arrays\n",
    "# these arrays contain the samples in the classes specified in cdx and include the features specified in fdx\n",
    "\n",
    "i = 0\n",
    "numY = 0\n",
    "for i in range(len(Y)):\n",
    "    for j in range(nC):\n",
    "        if Y[i] == IC[cdx[j]]:\n",
    "            numY += 1\n",
    "\n",
    "YY = np.zeros((numY))\n",
    "XX = np.zeros((numY,nF))\n",
    "if (len(fdx) == 1):\n",
    "    XXzeros0 = (0. * XX) + .2\n",
    "    XXzeros1 = (0. * XX) \n",
    "    XXzeros2 = (0. * XX) - .2\n",
    "\n",
    "j = 0\n",
    "for i in range(len(Y)):\n",
    "    for k in range(nC):\n",
    "        if Y[i] == IC[cdx[k]]:        \n",
    "            YY[j] = IC[cdx[k]]\n",
    "            for m in range(nF):\n",
    "                XX[j,m] = X[i,fdx[m]] \n",
    "            j += 1\n",
    "\n",
    "# fit the model\n",
    "\n",
    "# clf = Perceptron(tol=1e-4, random_state=0)\n",
    "clf = SGDClassifier(tol=1e-4, random_state=0) # creating the model\n",
    "\n",
    "#XX is the features that we are training on the classifications of all the 150 samples. YY contains all the smaples\n",
    "#num of XX = num of YY\n",
    "clf.fit(XX,YY)\n",
    "\n",
    "print('\\nScore: ',clf.score(XX,YY))"
   ]
  },
  {
   "cell_type": "markdown",
   "id": "838860d0",
   "metadata": {},
   "source": [
    "The score supports my previous claim of the model over this particular subset."
   ]
  },
  {
   "cell_type": "markdown",
   "id": "16e8581d",
   "metadata": {},
   "source": [
    "#### 10. Petal Length & Petal Width"
   ]
  },
  {
   "cell_type": "code",
   "execution_count": 40,
   "id": "58bcbe4f",
   "metadata": {},
   "outputs": [
    {
     "name": "stdout",
     "output_type": "stream",
     "text": [
      "\n",
      "Score:  1.0\n"
     ]
    }
   ],
   "source": [
    "# choose the classes and features to be included in the model\n",
    "\n",
    "cdx = np.array([0,1])             # this array contains the classes to be considered (can be 2-3 classes)\n",
    "fdx = np.array([2,3])           # this array contains the features to be considered (can be 1-4 features)\n",
    "\n",
    "nC = len(cdx)\n",
    "nF = len(fdx)\n",
    "\n",
    "# build the XX and YY arrays\n",
    "# these arrays contain the samples in the classes specified in cdx and include the features specified in fdx\n",
    "\n",
    "i = 0\n",
    "numY = 0\n",
    "for i in range(len(Y)):\n",
    "    for j in range(nC):\n",
    "        if Y[i] == IC[cdx[j]]:\n",
    "            numY += 1\n",
    "\n",
    "YY = np.zeros((numY))\n",
    "XX = np.zeros((numY,nF))\n",
    "if (len(fdx) == 1):\n",
    "    XXzeros0 = (0. * XX) + .2\n",
    "    XXzeros1 = (0. * XX) \n",
    "    XXzeros2 = (0. * XX) - .2\n",
    "\n",
    "j = 0\n",
    "for i in range(len(Y)):\n",
    "    for k in range(nC):\n",
    "        if Y[i] == IC[cdx[k]]:        \n",
    "            YY[j] = IC[cdx[k]]\n",
    "            for m in range(nF):\n",
    "                XX[j,m] = X[i,fdx[m]] \n",
    "            j += 1\n",
    "\n",
    "# fit the model\n",
    "\n",
    "# clf = Perceptron(tol=1e-4, random_state=0)\n",
    "clf = SGDClassifier(tol=1e-4, random_state=0) # creating the model\n",
    "\n",
    "#XX is the features that we are training on the classifications of all the 150 samples. YY contains all the smaples\n",
    "#num of XX = num of YY\n",
    "clf.fit(XX,YY)\n",
    "\n",
    "print('\\nScore: ',clf.score(XX,YY))"
   ]
  },
  {
   "cell_type": "markdown",
   "id": "196bc7b2",
   "metadata": {},
   "source": [
    "The final pair in the subset has a score of 1.0 accuracy. Therefore it can be said for this subset the model was accurate and I also suspect that there may be some underfiting in regards two particulat features sepal width and sepal length, I think its important to note that the least accurate scores were from subsets that included these features. In the single feature subset sepal length and width had less accurate scores comapred to the other features and in the two feature subset the only score that wasnt 1.0 for the model was the pair that included BOTH the sepal width and length. "
   ]
  },
  {
   "cell_type": "markdown",
   "id": "986b4b72",
   "metadata": {},
   "source": [
    "### Three Features\n",
    "\n",
    "#### 11. Sepal Length, Sepal Width & Petal Length"
   ]
  },
  {
   "cell_type": "code",
   "execution_count": 41,
   "id": "bb869d8f",
   "metadata": {},
   "outputs": [
    {
     "name": "stdout",
     "output_type": "stream",
     "text": [
      "\n",
      "Score:  1.0\n"
     ]
    }
   ],
   "source": [
    "# choose the classes and features to be included in the model\n",
    "\n",
    "cdx = np.array([0,1])             # this array contains the classes to be considered (can be 2-3 classes)\n",
    "fdx = np.array([0,1,2])           # this array contains the features to be considered (can be 1-4 features)\n",
    "\n",
    "nC = len(cdx)\n",
    "nF = len(fdx)\n",
    "\n",
    "# build the XX and YY arrays\n",
    "# these arrays contain the samples in the classes specified in cdx and include the features specified in fdx\n",
    "\n",
    "i = 0\n",
    "numY = 0\n",
    "for i in range(len(Y)):\n",
    "    for j in range(nC):\n",
    "        if Y[i] == IC[cdx[j]]:\n",
    "            numY += 1\n",
    "\n",
    "YY = np.zeros((numY))\n",
    "XX = np.zeros((numY,nF))\n",
    "if (len(fdx) == 1):\n",
    "    XXzeros0 = (0. * XX) + .2\n",
    "    XXzeros1 = (0. * XX) \n",
    "    XXzeros2 = (0. * XX) - .2\n",
    "\n",
    "j = 0\n",
    "for i in range(len(Y)):\n",
    "    for k in range(nC):\n",
    "        if Y[i] == IC[cdx[k]]:        \n",
    "            YY[j] = IC[cdx[k]]\n",
    "            for m in range(nF):\n",
    "                XX[j,m] = X[i,fdx[m]] \n",
    "            j += 1\n",
    "\n",
    "# fit the model\n",
    "\n",
    "# clf = Perceptron(tol=1e-4, random_state=0)\n",
    "clf = SGDClassifier(tol=1e-4, random_state=0) # creating the model\n",
    "\n",
    "#XX is the features that we are training on the classifications of all the 150 samples. YY contains all the smaples\n",
    "#num of XX = num of YY\n",
    "clf.fit(XX,YY)\n",
    "\n",
    "print('\\nScore: ',clf.score(XX,YY))"
   ]
  },
  {
   "cell_type": "markdown",
   "id": "baa76175",
   "metadata": {},
   "source": [
    "The accuracy of the model on the subset of the data is 1.0, this is the first pair in the three feature subset but this score has my second hypothesis under review about Sepal length and width being underfitted, they were both features in this pair and the model was 100% accurate so my hypothesis may only be true for single and double feature subset. This score does however support my overall hypothesis that the model was trained well over the data as I continue to see high reports of accuracy of the model over all subsets."
   ]
  },
  {
   "cell_type": "markdown",
   "id": "92855bc6",
   "metadata": {},
   "source": [
    "#### 12. Sepal Length, Sepal Width & Petal Width"
   ]
  },
  {
   "cell_type": "code",
   "execution_count": 42,
   "id": "9f5e4ba9",
   "metadata": {},
   "outputs": [
    {
     "name": "stdout",
     "output_type": "stream",
     "text": [
      "\n",
      "Score:  1.0\n"
     ]
    }
   ],
   "source": [
    "# choose the classes and features to be included in the model\n",
    "\n",
    "cdx = np.array([0,1])             # this array contains the classes to be considered (can be 2-3 classes)\n",
    "fdx = np.array([0,1,3])           # this array contains the features to be considered (can be 1-4 features)\n",
    "\n",
    "nC = len(cdx)\n",
    "nF = len(fdx)\n",
    "\n",
    "# build the XX and YY arrays\n",
    "# these arrays contain the samples in the classes specified in cdx and include the features specified in fdx\n",
    "\n",
    "i = 0\n",
    "numY = 0\n",
    "for i in range(len(Y)):\n",
    "    for j in range(nC):\n",
    "        if Y[i] == IC[cdx[j]]:\n",
    "            numY += 1\n",
    "\n",
    "YY = np.zeros((numY))\n",
    "XX = np.zeros((numY,nF))\n",
    "if (len(fdx) == 1):\n",
    "    XXzeros0 = (0. * XX) + .2\n",
    "    XXzeros1 = (0. * XX) \n",
    "    XXzeros2 = (0. * XX) - .2\n",
    "\n",
    "j = 0\n",
    "for i in range(len(Y)):\n",
    "    for k in range(nC):\n",
    "        if Y[i] == IC[cdx[k]]:        \n",
    "            YY[j] = IC[cdx[k]]\n",
    "            for m in range(nF):\n",
    "                XX[j,m] = X[i,fdx[m]] \n",
    "            j += 1\n",
    "\n",
    "# fit the model\n",
    "\n",
    "# clf = Perceptron(tol=1e-4, random_state=0)\n",
    "clf = SGDClassifier(tol=1e-4, random_state=0) # creating the model\n",
    "\n",
    "#XX is the features that we are training on the classifications of all the 150 samples. YY contains all the smaples\n",
    "#num of XX = num of YY\n",
    "clf.fit(XX,YY)\n",
    "\n",
    "print('\\nScore: ',clf.score(XX,YY))"
   ]
  },
  {
   "cell_type": "markdown",
   "id": "3e5e08ae",
   "metadata": {},
   "source": [
    "The model was 100% accurate over this subset pair."
   ]
  },
  {
   "cell_type": "markdown",
   "id": "1000ffcf",
   "metadata": {},
   "source": [
    "#### 13. Sepal Length, Petal Length & Petal Width"
   ]
  },
  {
   "cell_type": "code",
   "execution_count": 43,
   "id": "d3889431",
   "metadata": {},
   "outputs": [
    {
     "name": "stdout",
     "output_type": "stream",
     "text": [
      "\n",
      "Score:  1.0\n"
     ]
    }
   ],
   "source": [
    "# choose the classes and features to be included in the model\n",
    "\n",
    "cdx = np.array([0,1])             # this array contains the classes to be considered (can be 2-3 classes)\n",
    "fdx = np.array([0,2,3])           # this array contains the features to be considered (can be 1-4 features)\n",
    "\n",
    "nC = len(cdx)\n",
    "nF = len(fdx)\n",
    "\n",
    "# build the XX and YY arrays\n",
    "# these arrays contain the samples in the classes specified in cdx and include the features specified in fdx\n",
    "\n",
    "i = 0\n",
    "numY = 0\n",
    "for i in range(len(Y)):\n",
    "    for j in range(nC):\n",
    "        if Y[i] == IC[cdx[j]]:\n",
    "            numY += 1\n",
    "\n",
    "YY = np.zeros((numY))\n",
    "XX = np.zeros((numY,nF))\n",
    "if (len(fdx) == 1):\n",
    "    XXzeros0 = (0. * XX) + .2\n",
    "    XXzeros1 = (0. * XX) \n",
    "    XXzeros2 = (0. * XX) - .2\n",
    "\n",
    "j = 0\n",
    "for i in range(len(Y)):\n",
    "    for k in range(nC):\n",
    "        if Y[i] == IC[cdx[k]]:        \n",
    "            YY[j] = IC[cdx[k]]\n",
    "            for m in range(nF):\n",
    "                XX[j,m] = X[i,fdx[m]] \n",
    "            j += 1\n",
    "\n",
    "# fit the model\n",
    "\n",
    "# clf = Perceptron(tol=1e-4, random_state=0)\n",
    "clf = SGDClassifier(tol=1e-4, random_state=0) # creating the model\n",
    "\n",
    "#XX is the features that we are training on the classifications of all the 150 samples. YY contains all the smaples\n",
    "#num of XX = num of YY\n",
    "clf.fit(XX,YY)\n",
    "\n",
    "print('\\nScore: ',clf.score(XX,YY))"
   ]
  },
  {
   "cell_type": "markdown",
   "id": "9d09b55b",
   "metadata": {},
   "source": [
    "The model was also 100% accurate over this subset pair."
   ]
  },
  {
   "cell_type": "markdown",
   "id": "53bb8388",
   "metadata": {},
   "source": [
    "#### 14. Sepal Width, Petal Length & Petal Width"
   ]
  },
  {
   "cell_type": "code",
   "execution_count": 44,
   "id": "701defe9",
   "metadata": {},
   "outputs": [
    {
     "name": "stdout",
     "output_type": "stream",
     "text": [
      "\n",
      "Score:  1.0\n"
     ]
    }
   ],
   "source": [
    "# choose the classes and features to be included in the model\n",
    "\n",
    "cdx = np.array([0,1])             # this array contains the classes to be considered (can be 2-3 classes)\n",
    "fdx = np.array([1,2,3])           # this array contains the features to be considered (can be 1-4 features)\n",
    "\n",
    "nC = len(cdx)\n",
    "nF = len(fdx)\n",
    "\n",
    "# build the XX and YY arrays\n",
    "# these arrays contain the samples in the classes specified in cdx and include the features specified in fdx\n",
    "\n",
    "i = 0\n",
    "numY = 0\n",
    "for i in range(len(Y)):\n",
    "    for j in range(nC):\n",
    "        if Y[i] == IC[cdx[j]]:\n",
    "            numY += 1\n",
    "\n",
    "YY = np.zeros((numY))\n",
    "XX = np.zeros((numY,nF))\n",
    "if (len(fdx) == 1):\n",
    "    XXzeros0 = (0. * XX) + .2\n",
    "    XXzeros1 = (0. * XX) \n",
    "    XXzeros2 = (0. * XX) - .2\n",
    "\n",
    "j = 0\n",
    "for i in range(len(Y)):\n",
    "    for k in range(nC):\n",
    "        if Y[i] == IC[cdx[k]]:        \n",
    "            YY[j] = IC[cdx[k]]\n",
    "            for m in range(nF):\n",
    "                XX[j,m] = X[i,fdx[m]] \n",
    "            j += 1\n",
    "\n",
    "# fit the model\n",
    "\n",
    "# clf = Perceptron(tol=1e-4, random_state=0)\n",
    "clf = SGDClassifier(tol=1e-4, random_state=0) # creating the model\n",
    "\n",
    "#XX is the features that we are training on the classifications of all the 150 samples. YY contains all the smaples\n",
    "#num of XX = num of YY\n",
    "clf.fit(XX,YY)\n",
    "\n",
    "print('\\nScore: ',clf.score(XX,YY))"
   ]
  },
  {
   "cell_type": "markdown",
   "id": "31c69379",
   "metadata": {},
   "source": [
    "The model was 100% accurate over this subset pair."
   ]
  },
  {
   "cell_type": "markdown",
   "id": "2a93ae27",
   "metadata": {},
   "source": [
    "### Four Features\n",
    "\n",
    "#### 15. Sepal Length, Sepal Width, Petal Length, & Petal Width"
   ]
  },
  {
   "cell_type": "code",
   "execution_count": 45,
   "id": "394b6d6f",
   "metadata": {
    "scrolled": true
   },
   "outputs": [
    {
     "name": "stdout",
     "output_type": "stream",
     "text": [
      "\n",
      "Score:  1.0\n"
     ]
    }
   ],
   "source": [
    "# choose the classes and features to be included in the model\n",
    "\n",
    "cdx = np.array([0,1])             # this array contains the classes to be considered (can be 2-3 classes)\n",
    "fdx = np.array([0,1,2,3])           # this array contains the features to be considered (can be 1-4 features)\n",
    "\n",
    "nC = len(cdx)\n",
    "nF = len(fdx)\n",
    "\n",
    "# build the XX and YY arrays\n",
    "# these arrays contain the samples in the classes specified in cdx and include the features specified in fdx\n",
    "\n",
    "i = 0\n",
    "numY = 0\n",
    "for i in range(len(Y)):\n",
    "    for j in range(nC):\n",
    "        if Y[i] == IC[cdx[j]]:\n",
    "            numY += 1\n",
    "\n",
    "YY = np.zeros((numY))\n",
    "XX = np.zeros((numY,nF))\n",
    "if (len(fdx) == 1):\n",
    "    XXzeros0 = (0. * XX) + .2\n",
    "    XXzeros1 = (0. * XX) \n",
    "    XXzeros2 = (0. * XX) - .2\n",
    "\n",
    "j = 0\n",
    "for i in range(len(Y)):\n",
    "    for k in range(nC):\n",
    "        if Y[i] == IC[cdx[k]]:        \n",
    "            YY[j] = IC[cdx[k]]\n",
    "            for m in range(nF):\n",
    "                XX[j,m] = X[i,fdx[m]] \n",
    "            j += 1\n",
    "\n",
    "# fit the model\n",
    "\n",
    "# clf = Perceptron(tol=1e-4, random_state=0)\n",
    "clf = SGDClassifier(tol=1e-4, random_state=0) # creating the model\n",
    "\n",
    "#XX is the features that we are training on the classifications of all the 150 samples. YY contains all the smaples\n",
    "#num of XX = num of YY\n",
    "clf.fit(XX,YY)\n",
    "\n",
    "print('\\nScore: ',clf.score(XX,YY))"
   ]
  },
  {
   "cell_type": "markdown",
   "id": "43e041fb",
   "metadata": {},
   "source": [
    "\n",
    "SL = Sepal Length <br>\n",
    "SW = Sepal Width <br>\n",
    "PL = Petal Length <br>\n",
    "PW = Petal Width <br>\n",
    "    \n",
    "    \n",
    "## Result\n",
    "\n",
    "| Features | Accuracy |\n",
    "| --- | --- |\n",
    "| SL      | 0.5 |\n",
    "| SW      | 0.82 |\n",
    "| PL      | 1.0 |\n",
    "| PW      | 1.0 |\n",
    "| SL - SW | 0.99 |\n",
    "| SL - PL | 1.0 |\n",
    "| SL - PW | 1.0 |\n",
    "| SW - PL | 1.0 |\n",
    "| SW - PW | 1.0 |\n",
    "| PL - PW | 1.0 |\n",
    "| SL - SW - PL | 1.0 |\n",
    "| SL - SW - PW | 1.0 |\n",
    "| SL - PL - PW | 1.0 |\n",
    "| SW - PL - PW | 1.0 |\n",
    "| SL - SW - PL - PW | 1.0 |"
   ]
  },
  {
   "cell_type": "markdown",
   "id": "7224b980",
   "metadata": {},
   "source": [
    "The results shows that there is overall accuracy of the model over this subset with the excetion of \"0.5\" which serves as an outliter. The more features were included the higher the accuracy score it seems."
   ]
  },
  {
   "cell_type": "markdown",
   "id": "2337f1a4",
   "metadata": {},
   "source": [
    "## B) Setosa and Virginica\n",
    "\n",
    "### One Feature\n",
    "\n",
    "#### 1. Sepal Length (cm)"
   ]
  },
  {
   "cell_type": "code",
   "execution_count": 46,
   "id": "08bf99fc",
   "metadata": {},
   "outputs": [
    {
     "name": "stdout",
     "output_type": "stream",
     "text": [
      "\n",
      "Score:  0.72\n"
     ]
    }
   ],
   "source": [
    "# choose the classes and features to be included in the model\n",
    "\n",
    "cdx = np.array([0,2])             # this array contains the classes to be considered (can be 2-3 classes)\n",
    "fdx = np.array([0])           # this array contains the features to be considered (can be 1-4 features)\n",
    "\n",
    "nC = len(cdx)\n",
    "nF = len(fdx)\n",
    "\n",
    "# build the XX and YY arrays\n",
    "# these arrays contain the samples in the classes specified in cdx and include the features specified in fdx\n",
    "\n",
    "i = 0\n",
    "numY = 0\n",
    "for i in range(len(Y)):\n",
    "    for j in range(nC):\n",
    "        if Y[i] == IC[cdx[j]]:\n",
    "            numY += 1\n",
    "\n",
    "YY = np.zeros((numY))\n",
    "XX = np.zeros((numY,nF))\n",
    "if (len(fdx) == 1):\n",
    "    XXzeros0 = (0. * XX) + .2\n",
    "    XXzeros1 = (0. * XX) \n",
    "    XXzeros2 = (0. * XX) - .2\n",
    "\n",
    "j = 0\n",
    "for i in range(len(Y)):\n",
    "    for k in range(nC):\n",
    "        if Y[i] == IC[cdx[k]]:        \n",
    "            YY[j] = IC[cdx[k]]\n",
    "            for m in range(nF):\n",
    "                XX[j,m] = X[i,fdx[m]] \n",
    "            j += 1\n",
    "            \n",
    "# fit the model\n",
    "\n",
    "# clf = Perceptron(tol=1e-4, random_state=0)\n",
    "clf = SGDClassifier(tol=1e-4, random_state=0)\n",
    "\n",
    "clf.fit(XX,YY)\n",
    "\n",
    "print('\\nScore: ',clf.score(XX,YY))"
   ]
  },
  {
   "cell_type": "markdown",
   "id": "d69bb8e4",
   "metadata": {},
   "source": [
    "The score of 0.72 is again one of the lower accuracy scores of the model over any of the subsets. Now its starting to look like a pattern single features seem to have less accuracy but specifically sepal legnth."
   ]
  },
  {
   "cell_type": "markdown",
   "id": "05cdf653",
   "metadata": {},
   "source": [
    "#### 2. Sepal Width (cm)"
   ]
  },
  {
   "cell_type": "code",
   "execution_count": 47,
   "id": "100978a5",
   "metadata": {},
   "outputs": [
    {
     "name": "stdout",
     "output_type": "stream",
     "text": [
      "\n",
      "Score:  0.52\n"
     ]
    }
   ],
   "source": [
    "# choose the classes and features to be included in the model\n",
    "\n",
    "cdx = np.array([0,2])             # this array contains the classes to be considered (can be 2-3 classes)\n",
    "fdx = np.array([1])           # this array contains the features to be considered (can be 1-4 features)\n",
    "\n",
    "nC = len(cdx)\n",
    "nF = len(fdx)\n",
    "\n",
    "# build the XX and YY arrays\n",
    "# these arrays contain the samples in the classes specified in cdx and include the features specified in fdx\n",
    "\n",
    "i = 0\n",
    "numY = 0\n",
    "for i in range(len(Y)):\n",
    "    for j in range(nC):\n",
    "        if Y[i] == IC[cdx[j]]:\n",
    "            numY += 1\n",
    "\n",
    "YY = np.zeros((numY))\n",
    "XX = np.zeros((numY,nF))\n",
    "if (len(fdx) == 1):\n",
    "    XXzeros0 = (0. * XX) + .2\n",
    "    XXzeros1 = (0. * XX) \n",
    "    XXzeros2 = (0. * XX) - .2\n",
    "\n",
    "j = 0\n",
    "for i in range(len(Y)):\n",
    "    for k in range(nC):\n",
    "        if Y[i] == IC[cdx[k]]:        \n",
    "            YY[j] = IC[cdx[k]]\n",
    "            for m in range(nF):\n",
    "                XX[j,m] = X[i,fdx[m]] \n",
    "            j += 1\n",
    "            \n",
    "# fit the model\n",
    "\n",
    "# clf = Perceptron(tol=1e-4, random_state=0)\n",
    "clf = SGDClassifier(tol=1e-4, random_state=0)\n",
    "\n",
    "clf.fit(XX,YY)\n",
    "\n",
    "print('\\nScore: ',clf.score(XX,YY))"
   ]
  },
  {
   "cell_type": "markdown",
   "id": "35f14d9b",
   "metadata": {},
   "source": [
    "Again we see the model to be less accurate over sepal length and width and again over a single feature, this alludes to potential flaws in the model's training."
   ]
  },
  {
   "cell_type": "markdown",
   "id": "8254af3c",
   "metadata": {},
   "source": [
    "#### 3. Petal Length(cm)"
   ]
  },
  {
   "cell_type": "code",
   "execution_count": 48,
   "id": "1c275e76",
   "metadata": {},
   "outputs": [
    {
     "name": "stdout",
     "output_type": "stream",
     "text": [
      "\n",
      "Score:  1.0\n"
     ]
    }
   ],
   "source": [
    "# choose the classes and features to be included in the model\n",
    "\n",
    "cdx = np.array([0,2])             # this array contains the classes to be considered (can be 2-3 classes)\n",
    "fdx = np.array([2])           # this array contains the features to be considered (can be 1-4 features)\n",
    "\n",
    "nC = len(cdx)\n",
    "nF = len(fdx)\n",
    "\n",
    "# build the XX and YY arrays\n",
    "# these arrays contain the samples in the classes specified in cdx and include the features specified in fdx\n",
    "\n",
    "i = 0\n",
    "numY = 0\n",
    "for i in range(len(Y)):\n",
    "    for j in range(nC):\n",
    "        if Y[i] == IC[cdx[j]]:\n",
    "            numY += 1\n",
    "\n",
    "YY = np.zeros((numY))\n",
    "XX = np.zeros((numY,nF))\n",
    "if (len(fdx) == 1):\n",
    "    XXzeros0 = (0. * XX) + .2\n",
    "    XXzeros1 = (0. * XX) \n",
    "    XXzeros2 = (0. * XX) - .2\n",
    "\n",
    "j = 0\n",
    "for i in range(len(Y)):\n",
    "    for k in range(nC):\n",
    "        if Y[i] == IC[cdx[k]]:        \n",
    "            YY[j] = IC[cdx[k]]\n",
    "            for m in range(nF):\n",
    "                XX[j,m] = X[i,fdx[m]] \n",
    "            j += 1\n",
    "            \n",
    "# fit the model\n",
    "\n",
    "# clf = Perceptron(tol=1e-4, random_state=0)\n",
    "clf = SGDClassifier(tol=1e-4, random_state=0)\n",
    "\n",
    "clf.fit(XX,YY)\n",
    "\n",
    "print('\\nScore: ',clf.score(XX,YY))"
   ]
  },
  {
   "cell_type": "markdown",
   "id": "6d1d1c80",
   "metadata": {},
   "source": [
    "The model was 100% accurate over this subset pair."
   ]
  },
  {
   "cell_type": "markdown",
   "id": "895c6fe3",
   "metadata": {},
   "source": [
    "#### 4. Petal Width(cm)"
   ]
  },
  {
   "cell_type": "code",
   "execution_count": 49,
   "id": "653f054d",
   "metadata": {},
   "outputs": [
    {
     "name": "stdout",
     "output_type": "stream",
     "text": [
      "\n",
      "Score:  1.0\n"
     ]
    }
   ],
   "source": [
    "# choose the classes and features to be included in the model\n",
    "\n",
    "cdx = np.array([0,2])             # this array contains the classes to be considered (can be 2-3 classes)\n",
    "fdx = np.array([3])           # this array contains the features to be considered (can be 1-4 features)\n",
    "\n",
    "nC = len(cdx)\n",
    "nF = len(fdx)\n",
    "\n",
    "# build the XX and YY arrays\n",
    "# these arrays contain the samples in the classes specified in cdx and include the features specified in fdx\n",
    "\n",
    "i = 0\n",
    "numY = 0\n",
    "for i in range(len(Y)):\n",
    "    for j in range(nC):\n",
    "        if Y[i] == IC[cdx[j]]:\n",
    "            numY += 1\n",
    "\n",
    "YY = np.zeros((numY))\n",
    "XX = np.zeros((numY,nF))\n",
    "if (len(fdx) == 1):\n",
    "    XXzeros0 = (0. * XX) + .2\n",
    "    XXzeros1 = (0. * XX) \n",
    "    XXzeros2 = (0. * XX) - .2\n",
    "\n",
    "j = 0\n",
    "for i in range(len(Y)):\n",
    "    for k in range(nC):\n",
    "        if Y[i] == IC[cdx[k]]:        \n",
    "            YY[j] = IC[cdx[k]]\n",
    "            for m in range(nF):\n",
    "                XX[j,m] = X[i,fdx[m]] \n",
    "            j += 1\n",
    "            \n",
    "# fit the model\n",
    "\n",
    "# clf = Perceptron(tol=1e-4, random_state=0)\n",
    "clf = SGDClassifier(tol=1e-4, random_state=0)\n",
    "\n",
    "clf.fit(XX,YY)\n",
    "\n",
    "print('\\nScore: ',clf.score(XX,YY))"
   ]
  },
  {
   "cell_type": "markdown",
   "id": "e4616992",
   "metadata": {},
   "source": [
    "The model was 100% accurate over this subset pair."
   ]
  },
  {
   "cell_type": "markdown",
   "id": "0910417a",
   "metadata": {},
   "source": [
    "### Two Features\n",
    "\n",
    "#### 5. Sepal Length & Sepal Width"
   ]
  },
  {
   "cell_type": "code",
   "execution_count": 50,
   "id": "1b5c18f7",
   "metadata": {},
   "outputs": [
    {
     "name": "stdout",
     "output_type": "stream",
     "text": [
      "\n",
      "Score:  0.99\n"
     ]
    }
   ],
   "source": [
    "# choose the classes and features to be included in the model\n",
    "\n",
    "cdx = np.array([0,2])             # this array contains the classes to be considered (can be 2-3 classes)\n",
    "fdx = np.array([0,1])           # this array contains the features to be considered (can be 1-4 features)\n",
    "\n",
    "nC = len(cdx)\n",
    "nF = len(fdx)\n",
    "\n",
    "# build the XX and YY arrays\n",
    "# these arrays contain the samples in the classes specified in cdx and include the features specified in fdx\n",
    "\n",
    "i = 0\n",
    "numY = 0\n",
    "for i in range(len(Y)):\n",
    "    for j in range(nC):\n",
    "        if Y[i] == IC[cdx[j]]:\n",
    "            numY += 1\n",
    "\n",
    "YY = np.zeros((numY))\n",
    "XX = np.zeros((numY,nF))\n",
    "if (len(fdx) == 1):\n",
    "    XXzeros0 = (0. * XX) + .2\n",
    "    XXzeros1 = (0. * XX) \n",
    "    XXzeros2 = (0. * XX) - .2\n",
    "\n",
    "j = 0\n",
    "for i in range(len(Y)):\n",
    "    for k in range(nC):\n",
    "        if Y[i] == IC[cdx[k]]:        \n",
    "            YY[j] = IC[cdx[k]]\n",
    "            for m in range(nF):\n",
    "                XX[j,m] = X[i,fdx[m]] \n",
    "            j += 1\n",
    "            \n",
    "# fit the model\n",
    "\n",
    "# clf = Perceptron(tol=1e-4, random_state=0)\n",
    "clf = SGDClassifier(tol=1e-4, random_state=0)\n",
    "\n",
    "clf.fit(XX,YY)\n",
    "\n",
    "print('\\nScore: ',clf.score(XX,YY))"
   ]
  },
  {
   "cell_type": "markdown",
   "id": "5cf9edb5",
   "metadata": {},
   "source": [
    "A score of 0.99 says the model was nearly compeltely accurate over this subset pair, this pair consist of both sepal length and width but the distinguishing feature that probably made it more accurate is that while the model was not as accurate over two features INDIVIDUALLY as a PAIR it is, an andiciation that more features more accuracy may be true for our model."
   ]
  },
  {
   "cell_type": "markdown",
   "id": "e24b61f9",
   "metadata": {},
   "source": [
    "\n",
    "#### 6. Sepal Length & Petal Length"
   ]
  },
  {
   "cell_type": "code",
   "execution_count": 51,
   "id": "e0b33e2e",
   "metadata": {
    "scrolled": true
   },
   "outputs": [
    {
     "name": "stdout",
     "output_type": "stream",
     "text": [
      "\n",
      "Score:  1.0\n"
     ]
    }
   ],
   "source": [
    "# choose the classes and features to be included in the model\n",
    "\n",
    "cdx = np.array([0,2])             # this array contains the classes to be considered (can be 2-3 classes)\n",
    "fdx = np.array([0,2])           # this array contains the features to be considered (can be 1-4 features)\n",
    "\n",
    "nC = len(cdx)\n",
    "nF = len(fdx)\n",
    "\n",
    "# build the XX and YY arrays\n",
    "# these arrays contain the samples in the classes specified in cdx and include the features specified in fdx\n",
    "\n",
    "i = 0\n",
    "numY = 0\n",
    "for i in range(len(Y)):\n",
    "    for j in range(nC):\n",
    "        if Y[i] == IC[cdx[j]]:\n",
    "            numY += 1\n",
    "\n",
    "YY = np.zeros((numY))\n",
    "XX = np.zeros((numY,nF))\n",
    "if (len(fdx) == 1):\n",
    "    XXzeros0 = (0. * XX) + .2\n",
    "    XXzeros1 = (0. * XX) \n",
    "    XXzeros2 = (0. * XX) - .2\n",
    "\n",
    "j = 0\n",
    "for i in range(len(Y)):\n",
    "    for k in range(nC):\n",
    "        if Y[i] == IC[cdx[k]]:        \n",
    "            YY[j] = IC[cdx[k]]\n",
    "            for m in range(nF):\n",
    "                XX[j,m] = X[i,fdx[m]] \n",
    "            j += 1\n",
    "            \n",
    "# fit the model\n",
    "\n",
    "# clf = Perceptron(tol=1e-4, random_state=0)\n",
    "clf = SGDClassifier(tol=1e-4, random_state=0)\n",
    "\n",
    "clf.fit(XX,YY)\n",
    "\n",
    "print('\\nScore: ',clf.score(XX,YY))"
   ]
  },
  {
   "cell_type": "markdown",
   "id": "343feaf2",
   "metadata": {},
   "source": [
    "The model was 100% accurate over this subset pair."
   ]
  },
  {
   "cell_type": "markdown",
   "id": "f5d501c6",
   "metadata": {},
   "source": [
    "#### 7.Sepal Length & Petal Width"
   ]
  },
  {
   "cell_type": "code",
   "execution_count": 52,
   "id": "6a6c4baf",
   "metadata": {},
   "outputs": [
    {
     "name": "stdout",
     "output_type": "stream",
     "text": [
      "\n",
      "Score:  1.0\n"
     ]
    }
   ],
   "source": [
    "# choose the classes and features to be included in the model\n",
    "\n",
    "cdx = np.array([0,2])             # this array contains the classes to be considered (can be 2-3 classes)\n",
    "fdx = np.array([0,3])           # this array contains the features to be considered (can be 1-4 features)\n",
    "\n",
    "nC = len(cdx)\n",
    "nF = len(fdx)\n",
    "\n",
    "# build the XX and YY arrays\n",
    "# these arrays contain the samples in the classes specified in cdx and include the features specified in fdx\n",
    "\n",
    "i = 0\n",
    "numY = 0\n",
    "for i in range(len(Y)):\n",
    "    for j in range(nC):\n",
    "        if Y[i] == IC[cdx[j]]:\n",
    "            numY += 1\n",
    "\n",
    "YY = np.zeros((numY))\n",
    "XX = np.zeros((numY,nF))\n",
    "if (len(fdx) == 1):\n",
    "    XXzeros0 = (0. * XX) + .2\n",
    "    XXzeros1 = (0. * XX) \n",
    "    XXzeros2 = (0. * XX) - .2\n",
    "\n",
    "j = 0\n",
    "for i in range(len(Y)):\n",
    "    for k in range(nC):\n",
    "        if Y[i] == IC[cdx[k]]:        \n",
    "            YY[j] = IC[cdx[k]]\n",
    "            for m in range(nF):\n",
    "                XX[j,m] = X[i,fdx[m]] \n",
    "            j += 1\n",
    "            \n",
    "# fit the model\n",
    "\n",
    "# clf = Perceptron(tol=1e-4, random_state=0)\n",
    "clf = SGDClassifier(tol=1e-4, random_state=0)\n",
    "\n",
    "clf.fit(XX,YY)\n",
    "\n",
    "print('\\nScore: ',clf.score(XX,YY))"
   ]
  },
  {
   "cell_type": "markdown",
   "id": "c6ef35ac",
   "metadata": {},
   "source": [
    "The model was 100% accurate over this subset pair."
   ]
  },
  {
   "cell_type": "markdown",
   "id": "a498091f",
   "metadata": {},
   "source": [
    "#### 8. Sepal width & Petal length"
   ]
  },
  {
   "cell_type": "code",
   "execution_count": 53,
   "id": "f63e1c74",
   "metadata": {},
   "outputs": [
    {
     "name": "stdout",
     "output_type": "stream",
     "text": [
      "\n",
      "Score:  1.0\n"
     ]
    }
   ],
   "source": [
    "# choose the classes and features to be included in the model\n",
    "\n",
    "cdx = np.array([0,2])             # this array contains the classes to be considered (can be 2-3 classes)\n",
    "fdx = np.array([1,2])           # this array contains the features to be considered (can be 1-4 features)\n",
    "\n",
    "nC = len(cdx)\n",
    "nF = len(fdx)\n",
    "\n",
    "# build the XX and YY arrays\n",
    "# these arrays contain the samples in the classes specified in cdx and include the features specified in fdx\n",
    "\n",
    "i = 0\n",
    "numY = 0\n",
    "for i in range(len(Y)):\n",
    "    for j in range(nC):\n",
    "        if Y[i] == IC[cdx[j]]:\n",
    "            numY += 1\n",
    "\n",
    "YY = np.zeros((numY))\n",
    "XX = np.zeros((numY,nF))\n",
    "if (len(fdx) == 1):\n",
    "    XXzeros0 = (0. * XX) + .2\n",
    "    XXzeros1 = (0. * XX) \n",
    "    XXzeros2 = (0. * XX) - .2\n",
    "\n",
    "j = 0\n",
    "for i in range(len(Y)):\n",
    "    for k in range(nC):\n",
    "        if Y[i] == IC[cdx[k]]:        \n",
    "            YY[j] = IC[cdx[k]]\n",
    "            for m in range(nF):\n",
    "                XX[j,m] = X[i,fdx[m]] \n",
    "            j += 1\n",
    "            \n",
    "# fit the model\n",
    "\n",
    "# clf = Perceptron(tol=1e-4, random_state=0)\n",
    "clf = SGDClassifier(tol=1e-4, random_state=0)\n",
    "\n",
    "clf.fit(XX,YY)\n",
    "\n",
    "print('\\nScore: ',clf.score(XX,YY))"
   ]
  },
  {
   "cell_type": "markdown",
   "id": "db7ed1f4",
   "metadata": {},
   "source": [
    "The model was 100% accurate over this subset pair, and again appears to be genrally a good model with some slight discrepencies."
   ]
  },
  {
   "cell_type": "markdown",
   "id": "4dd48406",
   "metadata": {},
   "source": [
    "#### 9. Sepal Width & Petal Width"
   ]
  },
  {
   "cell_type": "code",
   "execution_count": 54,
   "id": "0f4ea67e",
   "metadata": {},
   "outputs": [
    {
     "name": "stdout",
     "output_type": "stream",
     "text": [
      "\n",
      "Score:  1.0\n"
     ]
    }
   ],
   "source": [
    "# choose the classes and features to be included in the model\n",
    "\n",
    "cdx = np.array([0,2])             # this array contains the classes to be considered (can be 2-3 classes)\n",
    "fdx = np.array([1,3])           # this array contains the features to be considered (can be 1-4 features)\n",
    "\n",
    "nC = len(cdx)\n",
    "nF = len(fdx)\n",
    "\n",
    "# build the XX and YY arrays\n",
    "# these arrays contain the samples in the classes specified in cdx and include the features specified in fdx\n",
    "\n",
    "i = 0\n",
    "numY = 0\n",
    "for i in range(len(Y)):\n",
    "    for j in range(nC):\n",
    "        if Y[i] == IC[cdx[j]]:\n",
    "            numY += 1\n",
    "\n",
    "YY = np.zeros((numY))\n",
    "XX = np.zeros((numY,nF))\n",
    "if (len(fdx) == 1):\n",
    "    XXzeros0 = (0. * XX) + .2\n",
    "    XXzeros1 = (0. * XX) \n",
    "    XXzeros2 = (0. * XX) - .2\n",
    "\n",
    "j = 0\n",
    "for i in range(len(Y)):\n",
    "    for k in range(nC):\n",
    "        if Y[i] == IC[cdx[k]]:        \n",
    "            YY[j] = IC[cdx[k]]\n",
    "            for m in range(nF):\n",
    "                XX[j,m] = X[i,fdx[m]] \n",
    "            j += 1\n",
    "            \n",
    "# fit the model\n",
    "\n",
    "# clf = Perceptron(tol=1e-4, random_state=0)\n",
    "clf = SGDClassifier(tol=1e-4, random_state=0)\n",
    "\n",
    "clf.fit(XX,YY)\n",
    "\n",
    "print('\\nScore: ',clf.score(XX,YY))"
   ]
  },
  {
   "cell_type": "markdown",
   "id": "4286e0b8",
   "metadata": {},
   "source": [
    "The model was 100% accurate over this subset pair."
   ]
  },
  {
   "cell_type": "markdown",
   "id": "c1893b78",
   "metadata": {},
   "source": [
    "#### 10. Petal Length & Petal Width"
   ]
  },
  {
   "cell_type": "code",
   "execution_count": 55,
   "id": "3403e299",
   "metadata": {},
   "outputs": [
    {
     "name": "stdout",
     "output_type": "stream",
     "text": [
      "\n",
      "Score:  1.0\n"
     ]
    }
   ],
   "source": [
    "# choose the classes and features to be included in the model\n",
    "\n",
    "cdx = np.array([0,2])             # this array contains the classes to be considered (can be 2-3 classes)\n",
    "fdx = np.array([2,3])           # this array contains the features to be considered (can be 1-4 features)\n",
    "\n",
    "nC = len(cdx)\n",
    "nF = len(fdx)\n",
    "\n",
    "# build the XX and YY arrays\n",
    "# these arrays contain the samples in the classes specified in cdx and include the features specified in fdx\n",
    "\n",
    "i = 0\n",
    "numY = 0\n",
    "for i in range(len(Y)):\n",
    "    for j in range(nC):\n",
    "        if Y[i] == IC[cdx[j]]:\n",
    "            numY += 1\n",
    "\n",
    "YY = np.zeros((numY))\n",
    "XX = np.zeros((numY,nF))\n",
    "if (len(fdx) == 1):\n",
    "    XXzeros0 = (0. * XX) + .2\n",
    "    XXzeros1 = (0. * XX) \n",
    "    XXzeros2 = (0. * XX) - .2\n",
    "\n",
    "j = 0\n",
    "for i in range(len(Y)):\n",
    "    for k in range(nC):\n",
    "        if Y[i] == IC[cdx[k]]:        \n",
    "            YY[j] = IC[cdx[k]]\n",
    "            for m in range(nF):\n",
    "                XX[j,m] = X[i,fdx[m]] \n",
    "            j += 1\n",
    "            \n",
    "# fit the model\n",
    "\n",
    "# clf = Perceptron(tol=1e-4, random_state=0)\n",
    "clf = SGDClassifier(tol=1e-4, random_state=0)\n",
    "\n",
    "clf.fit(XX,YY)\n",
    "\n",
    "print('\\nScore: ',clf.score(XX,YY))"
   ]
  },
  {
   "cell_type": "markdown",
   "id": "80d7e275",
   "metadata": {},
   "source": [
    "The model was 100% accurate over this subset pair."
   ]
  },
  {
   "cell_type": "markdown",
   "id": "e199c2dc",
   "metadata": {},
   "source": [
    "### Three Features\n",
    "\n",
    "#### 11. Sepal Length, Sepal Width & Petal Length"
   ]
  },
  {
   "cell_type": "code",
   "execution_count": 56,
   "id": "f69e91b0",
   "metadata": {},
   "outputs": [
    {
     "name": "stdout",
     "output_type": "stream",
     "text": [
      "\n",
      "Score:  1.0\n"
     ]
    }
   ],
   "source": [
    "# choose the classes and features to be included in the model\n",
    "\n",
    "cdx = np.array([0,2])             # this array contains the classes to be considered (can be 2-3 classes)\n",
    "fdx = np.array([0,1,2])           # this array contains the features to be considered (can be 1-4 features)\n",
    "\n",
    "nC = len(cdx)\n",
    "nF = len(fdx)\n",
    "\n",
    "# build the XX and YY arrays\n",
    "# these arrays contain the samples in the classes specified in cdx and include the features specified in fdx\n",
    "\n",
    "i = 0\n",
    "numY = 0\n",
    "for i in range(len(Y)):\n",
    "    for j in range(nC):\n",
    "        if Y[i] == IC[cdx[j]]:\n",
    "            numY += 1\n",
    "\n",
    "YY = np.zeros((numY))\n",
    "XX = np.zeros((numY,nF))\n",
    "if (len(fdx) == 1):\n",
    "    XXzeros0 = (0. * XX) + .2\n",
    "    XXzeros1 = (0. * XX) \n",
    "    XXzeros2 = (0. * XX) - .2\n",
    "\n",
    "j = 0\n",
    "for i in range(len(Y)):\n",
    "    for k in range(nC):\n",
    "        if Y[i] == IC[cdx[k]]:        \n",
    "            YY[j] = IC[cdx[k]]\n",
    "            for m in range(nF):\n",
    "                XX[j,m] = X[i,fdx[m]] \n",
    "            j += 1\n",
    "            \n",
    "# fit the model\n",
    "\n",
    "# clf = Perceptron(tol=1e-4, random_state=0)\n",
    "clf = SGDClassifier(tol=1e-4, random_state=0)\n",
    "\n",
    "clf.fit(XX,YY)\n",
    "\n",
    "print('\\nScore: ',clf.score(XX,YY))"
   ]
  },
  {
   "cell_type": "markdown",
   "id": "0018225b",
   "metadata": {},
   "source": [
    "The model was 100% accurate over this subset pair."
   ]
  },
  {
   "cell_type": "markdown",
   "id": "217645f6",
   "metadata": {},
   "source": [
    "#### 12. Sepal Length, Sepal Width & Petal Width"
   ]
  },
  {
   "cell_type": "code",
   "execution_count": 57,
   "id": "92c8d69d",
   "metadata": {},
   "outputs": [
    {
     "name": "stdout",
     "output_type": "stream",
     "text": [
      "\n",
      "Score:  1.0\n"
     ]
    }
   ],
   "source": [
    "# choose the classes and features to be included in the model\n",
    "\n",
    "cdx = np.array([0,2])             # this array contains the classes to be considered (can be 2-3 classes)\n",
    "fdx = np.array([0,1,3])           # this array contains the features to be considered (can be 1-4 features)\n",
    "\n",
    "nC = len(cdx)\n",
    "nF = len(fdx)\n",
    "\n",
    "# build the XX and YY arrays\n",
    "# these arrays contain the samples in the classes specified in cdx and include the features specified in fdx\n",
    "\n",
    "i = 0\n",
    "numY = 0\n",
    "for i in range(len(Y)):\n",
    "    for j in range(nC):\n",
    "        if Y[i] == IC[cdx[j]]:\n",
    "            numY += 1\n",
    "\n",
    "YY = np.zeros((numY))\n",
    "XX = np.zeros((numY,nF))\n",
    "if (len(fdx) == 1):\n",
    "    XXzeros0 = (0. * XX) + .2\n",
    "    XXzeros1 = (0. * XX) \n",
    "    XXzeros2 = (0. * XX) - .2\n",
    "\n",
    "j = 0\n",
    "for i in range(len(Y)):\n",
    "    for k in range(nC):\n",
    "        if Y[i] == IC[cdx[k]]:        \n",
    "            YY[j] = IC[cdx[k]]\n",
    "            for m in range(nF):\n",
    "                XX[j,m] = X[i,fdx[m]] \n",
    "            j += 1\n",
    "            \n",
    "# fit the model\n",
    "\n",
    "# clf = Perceptron(tol=1e-4, random_state=0)\n",
    "clf = SGDClassifier(tol=1e-4, random_state=0)\n",
    "\n",
    "clf.fit(XX,YY)\n",
    "\n",
    "print('\\nScore: ',clf.score(XX,YY))"
   ]
  },
  {
   "cell_type": "markdown",
   "id": "b0362b08",
   "metadata": {},
   "source": [
    "The model was 100% accurate over this subset pair."
   ]
  },
  {
   "cell_type": "markdown",
   "id": "41feff2a",
   "metadata": {},
   "source": [
    "#### 13. Sepal Length, Petal Length & Petal Width"
   ]
  },
  {
   "cell_type": "code",
   "execution_count": 58,
   "id": "c9a5ef5e",
   "metadata": {},
   "outputs": [
    {
     "name": "stdout",
     "output_type": "stream",
     "text": [
      "\n",
      "Score:  1.0\n"
     ]
    }
   ],
   "source": [
    "# choose the classes and features to be included in the model\n",
    "\n",
    "cdx = np.array([0,2])             # this array contains the classes to be considered (can be 2-3 classes)\n",
    "fdx = np.array([0,2,3])           # this array contains the features to be considered (can be 1-4 features)\n",
    "\n",
    "nC = len(cdx)\n",
    "nF = len(fdx)\n",
    "\n",
    "# build the XX and YY arrays\n",
    "# these arrays contain the samples in the classes specified in cdx and include the features specified in fdx\n",
    "\n",
    "i = 0\n",
    "numY = 0\n",
    "for i in range(len(Y)):\n",
    "    for j in range(nC):\n",
    "        if Y[i] == IC[cdx[j]]:\n",
    "            numY += 1\n",
    "\n",
    "YY = np.zeros((numY))\n",
    "XX = np.zeros((numY,nF))\n",
    "if (len(fdx) == 1):\n",
    "    XXzeros0 = (0. * XX) + .2\n",
    "    XXzeros1 = (0. * XX) \n",
    "    XXzeros2 = (0. * XX) - .2\n",
    "\n",
    "j = 0\n",
    "for i in range(len(Y)):\n",
    "    for k in range(nC):\n",
    "        if Y[i] == IC[cdx[k]]:        \n",
    "            YY[j] = IC[cdx[k]]\n",
    "            for m in range(nF):\n",
    "                XX[j,m] = X[i,fdx[m]] \n",
    "            j += 1\n",
    "            \n",
    "# fit the model\n",
    "\n",
    "# clf = Perceptron(tol=1e-4, random_state=0)\n",
    "clf = SGDClassifier(tol=1e-4, random_state=0)\n",
    "\n",
    "clf.fit(XX,YY)\n",
    "\n",
    "print('\\nScore: ',clf.score(XX,YY))"
   ]
  },
  {
   "cell_type": "markdown",
   "id": "f7188630",
   "metadata": {},
   "source": [
    "The model was 100% accurate over this subset pair."
   ]
  },
  {
   "cell_type": "markdown",
   "id": "ac2f0323",
   "metadata": {},
   "source": [
    "#### 14. Sepal Width, Petal Length & Petal Width"
   ]
  },
  {
   "cell_type": "code",
   "execution_count": 59,
   "id": "6ca17502",
   "metadata": {},
   "outputs": [
    {
     "name": "stdout",
     "output_type": "stream",
     "text": [
      "\n",
      "Score:  1.0\n"
     ]
    }
   ],
   "source": [
    "# choose the classes and features to be included in the model\n",
    "\n",
    "cdx = np.array([0,2])             # this array contains the classes to be considered (can be 2-3 classes)\n",
    "fdx = np.array([1,2,3])           # this array contains the features to be considered (can be 1-4 features)\n",
    "\n",
    "nC = len(cdx)\n",
    "nF = len(fdx)\n",
    "\n",
    "# build the XX and YY arrays\n",
    "# these arrays contain the samples in the classes specified in cdx and include the features specified in fdx\n",
    "\n",
    "i = 0\n",
    "numY = 0\n",
    "for i in range(len(Y)):\n",
    "    for j in range(nC):\n",
    "        if Y[i] == IC[cdx[j]]:\n",
    "            numY += 1\n",
    "\n",
    "YY = np.zeros((numY))\n",
    "XX = np.zeros((numY,nF))\n",
    "if (len(fdx) == 1):\n",
    "    XXzeros0 = (0. * XX) + .2\n",
    "    XXzeros1 = (0. * XX) \n",
    "    XXzeros2 = (0. * XX) - .2\n",
    "\n",
    "j = 0\n",
    "for i in range(len(Y)):\n",
    "    for k in range(nC):\n",
    "        if Y[i] == IC[cdx[k]]:        \n",
    "            YY[j] = IC[cdx[k]]\n",
    "            for m in range(nF):\n",
    "                XX[j,m] = X[i,fdx[m]] \n",
    "            j += 1\n",
    "            \n",
    "# fit the model\n",
    "\n",
    "# clf = Perceptron(tol=1e-4, random_state=0)\n",
    "clf = SGDClassifier(tol=1e-4, random_state=0)\n",
    "\n",
    "clf.fit(XX,YY)\n",
    "\n",
    "print('\\nScore: ',clf.score(XX,YY))"
   ]
  },
  {
   "cell_type": "markdown",
   "id": "32407588",
   "metadata": {},
   "source": [
    "The model was 100% accurate over this subset pair."
   ]
  },
  {
   "cell_type": "markdown",
   "id": "decca89c",
   "metadata": {},
   "source": [
    "### Four Features\n",
    "\n",
    "#### 15. Sepal Length, Sepal Width, Petal Length, & Petal Width"
   ]
  },
  {
   "cell_type": "code",
   "execution_count": 60,
   "id": "bff26e96",
   "metadata": {},
   "outputs": [
    {
     "name": "stdout",
     "output_type": "stream",
     "text": [
      "\n",
      "Score:  1.0\n"
     ]
    }
   ],
   "source": [
    "# choose the classes and features to be included in the model\n",
    "\n",
    "cdx = np.array([0,2])             # this array contains the classes to be considered (can be 2-3 classes)\n",
    "fdx = np.array([0,1,2,3])           # this array contains the features to be considered (can be 1-4 features)\n",
    "\n",
    "nC = len(cdx)\n",
    "nF = len(fdx)\n",
    "\n",
    "# build the XX and YY arrays\n",
    "# these arrays contain the samples in the classes specified in cdx and include the features specified in fdx\n",
    "\n",
    "i = 0\n",
    "numY = 0\n",
    "for i in range(len(Y)):\n",
    "    for j in range(nC):\n",
    "        if Y[i] == IC[cdx[j]]:\n",
    "            numY += 1\n",
    "\n",
    "YY = np.zeros((numY))\n",
    "XX = np.zeros((numY,nF))\n",
    "if (len(fdx) == 1):\n",
    "    XXzeros0 = (0. * XX) + .2\n",
    "    XXzeros1 = (0. * XX) \n",
    "    XXzeros2 = (0. * XX) - .2\n",
    "\n",
    "j = 0\n",
    "for i in range(len(Y)):\n",
    "    for k in range(nC):\n",
    "        if Y[i] == IC[cdx[k]]:        \n",
    "            YY[j] = IC[cdx[k]]\n",
    "            for m in range(nF):\n",
    "                XX[j,m] = X[i,fdx[m]] \n",
    "            j += 1\n",
    "            \n",
    "# fit the model\n",
    "\n",
    "# clf = Perceptron(tol=1e-4, random_state=0)\n",
    "clf = SGDClassifier(tol=1e-4, random_state=0)\n",
    "\n",
    "clf.fit(XX,YY)\n",
    "\n",
    "print('\\nScore: ',clf.score(XX,YY))"
   ]
  },
  {
   "cell_type": "markdown",
   "id": "49b9fcaa",
   "metadata": {},
   "source": [
    "\n",
    "SL = Sepal Length <br>\n",
    "SW = Sepal Width <br>\n",
    "PL = Petal Length <br>\n",
    "PW = Petal Width <br>\n",
    "    \n",
    "    \n",
    "## Result\n",
    "\n",
    "| Features | Accuracy |\n",
    "| --- | --- |\n",
    "| SL      | 0.72 |\n",
    "| SW      | 0.52 |\n",
    "| PL      | 1.0 |\n",
    "| PW      | 1.0 |\n",
    "| SL - SW | 0.99 |\n",
    "| SL - PL | 1.0 |\n",
    "| SL - PW | 1.0 |\n",
    "| SW - PL | 1.0 |\n",
    "| SW - PW | 1.0 |\n",
    "| PL - PW | 1.0 |\n",
    "| SL - SW - PL | 1.0 |\n",
    "| SL - SW - PW | 1.0 |\n",
    "| SL - PL - PW | 1.0 |\n",
    "| SW - PL - PW | 1.0 |\n",
    "| SL - SW - PL - PW | 1.0 |"
   ]
  },
  {
   "cell_type": "markdown",
   "id": "c8a02b4e",
   "metadata": {},
   "source": [
    "Our results continue to support my now (3) hypothesis of sorts. (1) That our model is generally a good model as we see overhwleming scores of 1.0, (2) there may be some kind of underfiting with the features of sepal length and sepal width as our least accurate scores always originate from the two, (3) there is a correlation between amount of features and accuracy, the two features with the least accurate results are always a pair of two classes and only one feature."
   ]
  },
  {
   "cell_type": "markdown",
   "id": "0b6263b3",
   "metadata": {},
   "source": [
    "## C) Versicolor and Virginica\n",
    "\n",
    "### One Feature\n",
    "\n",
    "#### 1. Sepal Length (cm)"
   ]
  },
  {
   "cell_type": "code",
   "execution_count": 61,
   "id": "8e90fa5b",
   "metadata": {},
   "outputs": [
    {
     "name": "stdout",
     "output_type": "stream",
     "text": [
      "\n",
      "Score:  0.51\n"
     ]
    }
   ],
   "source": [
    "# choose the classes and features to be included in the model\n",
    "\n",
    "cdx = np.array([1,2])             # this array contains the classes to be considered (can be 2-3 classes)\n",
    "fdx = np.array([0])           # this array contains the features to be considered (can be 1-4 features)\n",
    "\n",
    "nC = len(cdx)\n",
    "nF = len(fdx)\n",
    "\n",
    "# build the XX and YY arrays\n",
    "# these arrays contain the samples in the classes specified in cdx and include the features specified in fdx\n",
    "\n",
    "i = 0\n",
    "numY = 0\n",
    "for i in range(len(Y)):\n",
    "    for j in range(nC):\n",
    "        if Y[i] == IC[cdx[j]]:\n",
    "            numY += 1\n",
    "\n",
    "YY = np.zeros((numY))\n",
    "XX = np.zeros((numY,nF))\n",
    "if (len(fdx) == 1):\n",
    "    XXzeros0 = (0. * XX) + .2\n",
    "    XXzeros1 = (0. * XX) \n",
    "    XXzeros2 = (0. * XX) - .2\n",
    "\n",
    "j = 0\n",
    "for i in range(len(Y)):\n",
    "    for k in range(nC):\n",
    "        if Y[i] == IC[cdx[k]]:        \n",
    "            YY[j] = IC[cdx[k]]\n",
    "            for m in range(nF):\n",
    "                XX[j,m] = X[i,fdx[m]] \n",
    "            j += 1\n",
    "            \n",
    "# fit the model\n",
    "\n",
    "# clf = Perceptron(tol=1e-4, random_state=0)\n",
    "clf = SGDClassifier(tol=1e-4, random_state=0)\n",
    "\n",
    "clf.fit(XX,YY)\n",
    "\n",
    "print('\\nScore: ',clf.score(XX,YY))"
   ]
  },
  {
   "cell_type": "markdown",
   "id": "7d1ba388",
   "metadata": {},
   "source": [
    "The accuracy of the model over this subset pair was only 0.51,the mdoel was not very accuracte over this pair."
   ]
  },
  {
   "cell_type": "markdown",
   "id": "c723e01e",
   "metadata": {},
   "source": [
    "#### 2. Sepal Width (cm)"
   ]
  },
  {
   "cell_type": "code",
   "execution_count": 62,
   "id": "bdd97c6f",
   "metadata": {},
   "outputs": [
    {
     "name": "stdout",
     "output_type": "stream",
     "text": [
      "\n",
      "Score:  0.6\n"
     ]
    }
   ],
   "source": [
    "# choose the classes and features to be included in the model\n",
    "\n",
    "cdx = np.array([1,2])             # this array contains the classes to be considered (can be 2-3 classes)\n",
    "fdx = np.array([1])           # this array contains the features to be considered (can be 1-4 features)\n",
    "\n",
    "nC = len(cdx)\n",
    "nF = len(fdx)\n",
    "\n",
    "# build the XX and YY arrays\n",
    "# these arrays contain the samples in the classes specified in cdx and include the features specified in fdx\n",
    "\n",
    "i = 0\n",
    "numY = 0\n",
    "for i in range(len(Y)):\n",
    "    for j in range(nC):\n",
    "        if Y[i] == IC[cdx[j]]:\n",
    "            numY += 1\n",
    "\n",
    "YY = np.zeros((numY))\n",
    "XX = np.zeros((numY,nF))\n",
    "if (len(fdx) == 1):\n",
    "    XXzeros0 = (0. * XX) + .2\n",
    "    XXzeros1 = (0. * XX) \n",
    "    XXzeros2 = (0. * XX) - .2\n",
    "\n",
    "j = 0\n",
    "for i in range(len(Y)):\n",
    "    for k in range(nC):\n",
    "        if Y[i] == IC[cdx[k]]:        \n",
    "            YY[j] = IC[cdx[k]]\n",
    "            for m in range(nF):\n",
    "                XX[j,m] = X[i,fdx[m]] \n",
    "            j += 1\n",
    "            \n",
    "# fit the model\n",
    "\n",
    "# clf = Perceptron(tol=1e-4, random_state=0)\n",
    "clf = SGDClassifier(tol=1e-4, random_state=0)\n",
    "\n",
    "clf.fit(XX,YY)\n",
    "\n",
    "print('\\nScore: ',clf.score(XX,YY))"
   ]
  },
  {
   "cell_type": "markdown",
   "id": "a38b4437",
   "metadata": {},
   "source": [
    "The accuracy of the model over this subset pair was only 0.6,the mdoel was not very accuracte over this pair."
   ]
  },
  {
   "cell_type": "markdown",
   "id": "89880736",
   "metadata": {},
   "source": [
    "#### 3. Petal Length(cm)"
   ]
  },
  {
   "cell_type": "code",
   "execution_count": 63,
   "id": "c860c413",
   "metadata": {},
   "outputs": [
    {
     "name": "stdout",
     "output_type": "stream",
     "text": [
      "\n",
      "Score:  0.84\n"
     ]
    }
   ],
   "source": [
    "# choose the classes and features to be included in the model\n",
    "\n",
    "cdx = np.array([1,2])             # this array contains the classes to be considered (can be 2-3 classes)\n",
    "fdx = np.array([2])           # this array contains the features to be considered (can be 1-4 features)\n",
    "\n",
    "nC = len(cdx)\n",
    "nF = len(fdx)\n",
    "\n",
    "# build the XX and YY arrays\n",
    "# these arrays contain the samples in the classes specified in cdx and include the features specified in fdx\n",
    "\n",
    "i = 0\n",
    "numY = 0\n",
    "for i in range(len(Y)):\n",
    "    for j in range(nC):\n",
    "        if Y[i] == IC[cdx[j]]:\n",
    "            numY += 1\n",
    "\n",
    "YY = np.zeros((numY))\n",
    "XX = np.zeros((numY,nF))\n",
    "if (len(fdx) == 1):\n",
    "    XXzeros0 = (0. * XX) + .2\n",
    "    XXzeros1 = (0. * XX) \n",
    "    XXzeros2 = (0. * XX) - .2\n",
    "\n",
    "j = 0\n",
    "for i in range(len(Y)):\n",
    "    for k in range(nC):\n",
    "        if Y[i] == IC[cdx[k]]:        \n",
    "            YY[j] = IC[cdx[k]]\n",
    "            for m in range(nF):\n",
    "                XX[j,m] = X[i,fdx[m]] \n",
    "            j += 1\n",
    "            \n",
    "# fit the model\n",
    "\n",
    "# clf = Perceptron(tol=1e-4, random_state=0)\n",
    "clf = SGDClassifier(tol=1e-4, random_state=0)\n",
    "\n",
    "clf.fit(XX,YY)\n",
    "\n",
    "print('\\nScore: ',clf.score(XX,YY))"
   ]
  },
  {
   "cell_type": "markdown",
   "id": "05a35fec",
   "metadata": {},
   "source": [
    "The accuracy of the model over this subset pair was, surpisngly, only 0.84, in the previous data sets we see more accuracy for petal length and width. However, this may be a result of the classes, something that I hadn't fully considered until this subset."
   ]
  },
  {
   "cell_type": "markdown",
   "id": "15ce3f52",
   "metadata": {},
   "source": [
    "#### 4. Petal Width(cm)"
   ]
  },
  {
   "cell_type": "code",
   "execution_count": 64,
   "id": "e6e50172",
   "metadata": {},
   "outputs": [
    {
     "name": "stdout",
     "output_type": "stream",
     "text": [
      "\n",
      "Score:  0.84\n"
     ]
    }
   ],
   "source": [
    "# choose the classes and features to be included in the model\n",
    "\n",
    "cdx = np.array([1,2])             # this array contains the classes to be considered (can be 2-3 classes)\n",
    "fdx = np.array([3])           # this array contains the features to be considered (can be 1-4 features)\n",
    "\n",
    "nC = len(cdx)\n",
    "nF = len(fdx)\n",
    "\n",
    "# build the XX and YY arrays\n",
    "# these arrays contain the samples in the classes specified in cdx and include the features specified in fdx\n",
    "\n",
    "i = 0\n",
    "numY = 0\n",
    "for i in range(len(Y)):\n",
    "    for j in range(nC):\n",
    "        if Y[i] == IC[cdx[j]]:\n",
    "            numY += 1\n",
    "\n",
    "YY = np.zeros((numY))\n",
    "XX = np.zeros((numY,nF))\n",
    "if (len(fdx) == 1):\n",
    "    XXzeros0 = (0. * XX) + .2\n",
    "    XXzeros1 = (0. * XX) \n",
    "    XXzeros2 = (0. * XX) - .2\n",
    "\n",
    "j = 0\n",
    "for i in range(len(Y)):\n",
    "    for k in range(nC):\n",
    "        if Y[i] == IC[cdx[k]]:        \n",
    "            YY[j] = IC[cdx[k]]\n",
    "            for m in range(nF):\n",
    "                XX[j,m] = X[i,fdx[m]] \n",
    "            j += 1\n",
    "            \n",
    "# fit the model\n",
    "\n",
    "# clf = Perceptron(tol=1e-4, random_state=0)\n",
    "clf = SGDClassifier(tol=1e-4, random_state=0)\n",
    "\n",
    "clf.fit(XX,YY)\n",
    "\n",
    "print('\\nScore: ',clf.score(XX,YY))"
   ]
  },
  {
   "cell_type": "markdown",
   "id": "6f3f2002",
   "metadata": {},
   "source": [
    "The score of 0.84 is a relatively high accuracy score but in comparassion to the previous scores, the classes seems to have affected the accuracy significantly."
   ]
  },
  {
   "cell_type": "markdown",
   "id": "f7872fa3",
   "metadata": {},
   "source": [
    "### Two Features\n",
    "\n",
    "#### 5. Sepal Length & Sepal Width"
   ]
  },
  {
   "cell_type": "code",
   "execution_count": 65,
   "id": "5f67cb58",
   "metadata": {},
   "outputs": [
    {
     "name": "stdout",
     "output_type": "stream",
     "text": [
      "\n",
      "Score:  0.74\n"
     ]
    }
   ],
   "source": [
    "# choose the classes and features to be included in the model\n",
    "\n",
    "cdx = np.array([1,2])             # this array contains the classes to be considered (can be 2-3 classes)\n",
    "fdx = np.array([0,1])           # this array contains the features to be considered (can be 1-4 features)\n",
    "\n",
    "nC = len(cdx)\n",
    "nF = len(fdx)\n",
    "\n",
    "# build the XX and YY arrays\n",
    "# these arrays contain the samples in the classes specified in cdx and include the features specified in fdx\n",
    "\n",
    "i = 0\n",
    "numY = 0\n",
    "for i in range(len(Y)):\n",
    "    for j in range(nC):\n",
    "        if Y[i] == IC[cdx[j]]:\n",
    "            numY += 1\n",
    "\n",
    "YY = np.zeros((numY))\n",
    "XX = np.zeros((numY,nF))\n",
    "if (len(fdx) == 1):\n",
    "    XXzeros0 = (0. * XX) + .2\n",
    "    XXzeros1 = (0. * XX) \n",
    "    XXzeros2 = (0. * XX) - .2\n",
    "\n",
    "j = 0\n",
    "for i in range(len(Y)):\n",
    "    for k in range(nC):\n",
    "        if Y[i] == IC[cdx[k]]:        \n",
    "            YY[j] = IC[cdx[k]]\n",
    "            for m in range(nF):\n",
    "                XX[j,m] = X[i,fdx[m]] \n",
    "            j += 1\n",
    "            \n",
    "# fit the model\n",
    "\n",
    "# clf = Perceptron(tol=1e-4, random_state=0)\n",
    "clf = SGDClassifier(tol=1e-4, random_state=0)\n",
    "\n",
    "clf.fit(XX,YY)\n",
    "\n",
    "print('\\nScore: ',clf.score(XX,YY))"
   ]
  },
  {
   "cell_type": "markdown",
   "id": "856daed6",
   "metadata": {},
   "source": [
    "This score of only 0.74 dampers my third hypothesis, there was an increase in features but that did not translate to an increate in accuracy for this pair."
   ]
  },
  {
   "cell_type": "markdown",
   "id": "8ff31300",
   "metadata": {},
   "source": [
    "#### 6. Sepal Length & Petal Length"
   ]
  },
  {
   "cell_type": "code",
   "execution_count": 66,
   "id": "67cb693e",
   "metadata": {},
   "outputs": [
    {
     "name": "stdout",
     "output_type": "stream",
     "text": [
      "\n",
      "Score:  0.92\n"
     ]
    }
   ],
   "source": [
    "# choose the classes and features to be included in the model\n",
    "\n",
    "cdx = np.array([1,2])             # this array contains the classes to be considered (can be 2-3 classes)\n",
    "fdx = np.array([0,2])           # this array contains the features to be considered (can be 1-4 features)\n",
    "\n",
    "nC = len(cdx)\n",
    "nF = len(fdx)\n",
    "\n",
    "# build the XX and YY arrays\n",
    "# these arrays contain the samples in the classes specified in cdx and include the features specified in fdx\n",
    "\n",
    "i = 0\n",
    "numY = 0\n",
    "for i in range(len(Y)):\n",
    "    for j in range(nC):\n",
    "        if Y[i] == IC[cdx[j]]:\n",
    "            numY += 1\n",
    "\n",
    "YY = np.zeros((numY))\n",
    "XX = np.zeros((numY,nF))\n",
    "if (len(fdx) == 1):\n",
    "    XXzeros0 = (0. * XX) + .2\n",
    "    XXzeros1 = (0. * XX) \n",
    "    XXzeros2 = (0. * XX) - .2\n",
    "\n",
    "j = 0\n",
    "for i in range(len(Y)):\n",
    "    for k in range(nC):\n",
    "        if Y[i] == IC[cdx[k]]:        \n",
    "            YY[j] = IC[cdx[k]]\n",
    "            for m in range(nF):\n",
    "                XX[j,m] = X[i,fdx[m]] \n",
    "            j += 1\n",
    "            \n",
    "# fit the model\n",
    "\n",
    "# clf = Perceptron(tol=1e-4, random_state=0)\n",
    "clf = SGDClassifier(tol=1e-4, random_state=0)\n",
    "\n",
    "clf.fit(XX,YY)\n",
    "\n",
    "print('\\nScore: ',clf.score(XX,YY))"
   ]
  },
  {
   "cell_type": "markdown",
   "id": "affb78f4",
   "metadata": {},
   "source": [
    "An increase in features DID translate to an increate in accuracy for this pair."
   ]
  },
  {
   "cell_type": "markdown",
   "id": "03534dc8",
   "metadata": {},
   "source": [
    "#### 7.Sepal Length & Petal Width"
   ]
  },
  {
   "cell_type": "code",
   "execution_count": 67,
   "id": "ec366b58",
   "metadata": {},
   "outputs": [
    {
     "name": "stdout",
     "output_type": "stream",
     "text": [
      "\n",
      "Score:  0.63\n"
     ]
    }
   ],
   "source": [
    "# choose the classes and features to be included in the model\n",
    "\n",
    "cdx = np.array([1,2])             # this array contains the classes to be considered (can be 2-3 classes)\n",
    "fdx = np.array([0,3])           # this array contains the features to be considered (can be 1-4 features)\n",
    "\n",
    "nC = len(cdx)\n",
    "nF = len(fdx)\n",
    "\n",
    "# build the XX and YY arrays\n",
    "# these arrays contain the samples in the classes specified in cdx and include the features specified in fdx\n",
    "\n",
    "i = 0\n",
    "numY = 0\n",
    "for i in range(len(Y)):\n",
    "    for j in range(nC):\n",
    "        if Y[i] == IC[cdx[j]]:\n",
    "            numY += 1\n",
    "\n",
    "YY = np.zeros((numY))\n",
    "XX = np.zeros((numY,nF))\n",
    "if (len(fdx) == 1):\n",
    "    XXzeros0 = (0. * XX) + .2\n",
    "    XXzeros1 = (0. * XX) \n",
    "    XXzeros2 = (0. * XX) - .2\n",
    "\n",
    "j = 0\n",
    "for i in range(len(Y)):\n",
    "    for k in range(nC):\n",
    "        if Y[i] == IC[cdx[k]]:        \n",
    "            YY[j] = IC[cdx[k]]\n",
    "            for m in range(nF):\n",
    "                XX[j,m] = X[i,fdx[m]] \n",
    "            j += 1\n",
    "            \n",
    "# fit the model\n",
    "\n",
    "# clf = Perceptron(tol=1e-4, random_state=0)\n",
    "clf = SGDClassifier(tol=1e-4, random_state=0)\n",
    "\n",
    "clf.fit(XX,YY)\n",
    "\n",
    "print('\\nScore: ',clf.score(XX,YY))"
   ]
  },
  {
   "cell_type": "markdown",
   "id": "b8e7ee29",
   "metadata": {},
   "source": [
    "But not for this pair."
   ]
  },
  {
   "cell_type": "markdown",
   "id": "fe519e96",
   "metadata": {},
   "source": [
    "#### 8. Sepal width & Petal length"
   ]
  },
  {
   "cell_type": "code",
   "execution_count": 68,
   "id": "2f13088e",
   "metadata": {},
   "outputs": [
    {
     "name": "stdout",
     "output_type": "stream",
     "text": [
      "\n",
      "Score:  0.91\n"
     ]
    }
   ],
   "source": [
    "# choose the classes and features to be included in the model\n",
    "\n",
    "cdx = np.array([1,2])             # this array contains the classes to be considered (can be 2-3 classes)\n",
    "fdx = np.array([1,2])           # this array contains the features to be considered (can be 1-4 features)\n",
    "\n",
    "nC = len(cdx)\n",
    "nF = len(fdx)\n",
    "\n",
    "# build the XX and YY arrays\n",
    "# these arrays contain the samples in the classes specified in cdx and include the features specified in fdx\n",
    "\n",
    "i = 0\n",
    "numY = 0\n",
    "for i in range(len(Y)):\n",
    "    for j in range(nC):\n",
    "        if Y[i] == IC[cdx[j]]:\n",
    "            numY += 1\n",
    "\n",
    "YY = np.zeros((numY))\n",
    "XX = np.zeros((numY,nF))\n",
    "if (len(fdx) == 1):\n",
    "    XXzeros0 = (0. * XX) + .2\n",
    "    XXzeros1 = (0. * XX) \n",
    "    XXzeros2 = (0. * XX) - .2\n",
    "\n",
    "j = 0\n",
    "for i in range(len(Y)):\n",
    "    for k in range(nC):\n",
    "        if Y[i] == IC[cdx[k]]:        \n",
    "            YY[j] = IC[cdx[k]]\n",
    "            for m in range(nF):\n",
    "                XX[j,m] = X[i,fdx[m]] \n",
    "            j += 1\n",
    "            \n",
    "# fit the model\n",
    "\n",
    "# clf = Perceptron(tol=1e-4, random_state=0)\n",
    "clf = SGDClassifier(tol=1e-4, random_state=0)\n",
    "\n",
    "clf.fit(XX,YY)\n",
    "\n",
    "print('\\nScore: ',clf.score(XX,YY))"
   ]
  },
  {
   "cell_type": "markdown",
   "id": "7950fb3b",
   "metadata": {},
   "source": [
    "#### 9. Sepal Width & Petal Width"
   ]
  },
  {
   "cell_type": "code",
   "execution_count": 69,
   "id": "6adcec77",
   "metadata": {},
   "outputs": [
    {
     "name": "stdout",
     "output_type": "stream",
     "text": [
      "\n",
      "Score:  0.87\n"
     ]
    }
   ],
   "source": [
    "# choose the classes and features to be included in the model\n",
    "\n",
    "cdx = np.array([1,2])             # this array contains the classes to be considered (can be 2-3 classes)\n",
    "fdx = np.array([1,3])           # this array contains the features to be considered (can be 1-4 features)\n",
    "\n",
    "nC = len(cdx)\n",
    "nF = len(fdx)\n",
    "\n",
    "# build the XX and YY arrays\n",
    "# these arrays contain the samples in the classes specified in cdx and include the features specified in fdx\n",
    "\n",
    "i = 0\n",
    "numY = 0\n",
    "for i in range(len(Y)):\n",
    "    for j in range(nC):\n",
    "        if Y[i] == IC[cdx[j]]:\n",
    "            numY += 1\n",
    "\n",
    "YY = np.zeros((numY))\n",
    "XX = np.zeros((numY,nF))\n",
    "if (len(fdx) == 1):\n",
    "    XXzeros0 = (0. * XX) + .2\n",
    "    XXzeros1 = (0. * XX) \n",
    "    XXzeros2 = (0. * XX) - .2\n",
    "\n",
    "j = 0\n",
    "for i in range(len(Y)):\n",
    "    for k in range(nC):\n",
    "        if Y[i] == IC[cdx[k]]:        \n",
    "            YY[j] = IC[cdx[k]]\n",
    "            for m in range(nF):\n",
    "                XX[j,m] = X[i,fdx[m]] \n",
    "            j += 1\n",
    "            \n",
    "# fit the model\n",
    "\n",
    "# clf = Perceptron(tol=1e-4, random_state=0)\n",
    "clf = SGDClassifier(tol=1e-4, random_state=0)\n",
    "\n",
    "clf.fit(XX,YY)\n",
    "\n",
    "print('\\nScore: ',clf.score(XX,YY))"
   ]
  },
  {
   "cell_type": "markdown",
   "id": "27296c0c",
   "metadata": {},
   "source": [
    "#### 10. Petal Length & Petal Width"
   ]
  },
  {
   "cell_type": "code",
   "execution_count": 70,
   "id": "0594ce2f",
   "metadata": {},
   "outputs": [
    {
     "name": "stdout",
     "output_type": "stream",
     "text": [
      "\n",
      "Score:  0.9\n"
     ]
    }
   ],
   "source": [
    "# choose the classes and features to be included in the model\n",
    "\n",
    "cdx = np.array([1,2])             # this array contains the classes to be considered (can be 2-3 classes)\n",
    "fdx = np.array([2,3])           # this array contains the features to be considered (can be 1-4 features)\n",
    "\n",
    "nC = len(cdx)\n",
    "nF = len(fdx)\n",
    "\n",
    "# build the XX and YY arrays\n",
    "# these arrays contain the samples in the classes specified in cdx and include the features specified in fdx\n",
    "\n",
    "i = 0\n",
    "numY = 0\n",
    "for i in range(len(Y)):\n",
    "    for j in range(nC):\n",
    "        if Y[i] == IC[cdx[j]]:\n",
    "            numY += 1\n",
    "\n",
    "YY = np.zeros((numY))\n",
    "XX = np.zeros((numY,nF))\n",
    "if (len(fdx) == 1):\n",
    "    XXzeros0 = (0. * XX) + .2\n",
    "    XXzeros1 = (0. * XX) \n",
    "    XXzeros2 = (0. * XX) - .2\n",
    "\n",
    "j = 0\n",
    "for i in range(len(Y)):\n",
    "    for k in range(nC):\n",
    "        if Y[i] == IC[cdx[k]]:        \n",
    "            YY[j] = IC[cdx[k]]\n",
    "            for m in range(nF):\n",
    "                XX[j,m] = X[i,fdx[m]] \n",
    "            j += 1\n",
    "            \n",
    "# fit the model\n",
    "\n",
    "# clf = Perceptron(tol=1e-4, random_state=0)\n",
    "clf = SGDClassifier(tol=1e-4, random_state=0)\n",
    "\n",
    "clf.fit(XX,YY)\n",
    "\n",
    "print('\\nScore: ',clf.score(XX,YY))"
   ]
  },
  {
   "cell_type": "markdown",
   "id": "f478bde6",
   "metadata": {},
   "source": [
    "### Three Features\n",
    "\n",
    "#### 11. Sepal Length, Sepal Width & Petal Length"
   ]
  },
  {
   "cell_type": "code",
   "execution_count": 71,
   "id": "dd157b9a",
   "metadata": {},
   "outputs": [
    {
     "name": "stdout",
     "output_type": "stream",
     "text": [
      "\n",
      "Score:  0.89\n"
     ]
    }
   ],
   "source": [
    "# choose the classes and features to be included in the model\n",
    "\n",
    "cdx = np.array([1,2])             # this array contains the classes to be considered (can be 2-3 classes)\n",
    "fdx = np.array([0,1,2])           # this array contains the features to be considered (can be 1-4 features)\n",
    "\n",
    "nC = len(cdx)\n",
    "nF = len(fdx)\n",
    "\n",
    "# build the XX and YY arrays\n",
    "# these arrays contain the samples in the classes specified in cdx and include the features specified in fdx\n",
    "\n",
    "i = 0\n",
    "numY = 0\n",
    "for i in range(len(Y)):\n",
    "    for j in range(nC):\n",
    "        if Y[i] == IC[cdx[j]]:\n",
    "            numY += 1\n",
    "\n",
    "YY = np.zeros((numY))\n",
    "XX = np.zeros((numY,nF))\n",
    "if (len(fdx) == 1):\n",
    "    XXzeros0 = (0. * XX) + .2\n",
    "    XXzeros1 = (0. * XX) \n",
    "    XXzeros2 = (0. * XX) - .2\n",
    "\n",
    "j = 0\n",
    "for i in range(len(Y)):\n",
    "    for k in range(nC):\n",
    "        if Y[i] == IC[cdx[k]]:        \n",
    "            YY[j] = IC[cdx[k]]\n",
    "            for m in range(nF):\n",
    "                XX[j,m] = X[i,fdx[m]] \n",
    "            j += 1\n",
    "            \n",
    "# fit the model\n",
    "\n",
    "# clf = Perceptron(tol=1e-4, random_state=0)\n",
    "clf = SGDClassifier(tol=1e-4, random_state=0)\n",
    "\n",
    "clf.fit(XX,YY)\n",
    "\n",
    "print('\\nScore: ',clf.score(XX,YY))"
   ]
  },
  {
   "cell_type": "markdown",
   "id": "eccf493c",
   "metadata": {},
   "source": [
    "#### 12. Sepal Length, Sepal Width & Petal Width"
   ]
  },
  {
   "cell_type": "code",
   "execution_count": 72,
   "id": "4a83681a",
   "metadata": {},
   "outputs": [
    {
     "name": "stdout",
     "output_type": "stream",
     "text": [
      "\n",
      "Score:  0.91\n"
     ]
    }
   ],
   "source": [
    "# choose the classes and features to be included in the model\n",
    "\n",
    "cdx = np.array([1,2])             # this array contains the classes to be considered (can be 2-3 classes)\n",
    "fdx = np.array([0,1,3])           # this array contains the features to be considered (can be 1-4 features)\n",
    "\n",
    "nC = len(cdx)\n",
    "nF = len(fdx)\n",
    "\n",
    "# build the XX and YY arrays\n",
    "# these arrays contain the samples in the classes specified in cdx and include the features specified in fdx\n",
    "\n",
    "i = 0\n",
    "numY = 0\n",
    "for i in range(len(Y)):\n",
    "    for j in range(nC):\n",
    "        if Y[i] == IC[cdx[j]]:\n",
    "            numY += 1\n",
    "\n",
    "YY = np.zeros((numY))\n",
    "XX = np.zeros((numY,nF))\n",
    "if (len(fdx) == 1):\n",
    "    XXzeros0 = (0. * XX) + .2\n",
    "    XXzeros1 = (0. * XX) \n",
    "    XXzeros2 = (0. * XX) - .2\n",
    "\n",
    "j = 0\n",
    "for i in range(len(Y)):\n",
    "    for k in range(nC):\n",
    "        if Y[i] == IC[cdx[k]]:        \n",
    "            YY[j] = IC[cdx[k]]\n",
    "            for m in range(nF):\n",
    "                XX[j,m] = X[i,fdx[m]] \n",
    "            j += 1\n",
    "            \n",
    "# fit the model\n",
    "\n",
    "# clf = Perceptron(tol=1e-4, random_state=0)\n",
    "clf = SGDClassifier(tol=1e-4, random_state=0)\n",
    "\n",
    "clf.fit(XX,YY)\n",
    "\n",
    "print('\\nScore: ',clf.score(XX,YY))"
   ]
  },
  {
   "cell_type": "markdown",
   "id": "90287f8c",
   "metadata": {},
   "source": [
    "#### 13. Sepal Length, Petal Length & Petal Width"
   ]
  },
  {
   "cell_type": "code",
   "execution_count": 73,
   "id": "65b01f74",
   "metadata": {},
   "outputs": [
    {
     "name": "stdout",
     "output_type": "stream",
     "text": [
      "\n",
      "Score:  0.75\n"
     ]
    }
   ],
   "source": [
    "# choose the classes and features to be included in the model\n",
    "\n",
    "cdx = np.array([1,2])             # this array contains the classes to be considered (can be 2-3 classes)\n",
    "fdx = np.array([0,2,3])           # this array contains the features to be considered (can be 1-4 features)\n",
    "\n",
    "nC = len(cdx)\n",
    "nF = len(fdx)\n",
    "\n",
    "# build the XX and YY arrays\n",
    "# these arrays contain the samples in the classes specified in cdx and include the features specified in fdx\n",
    "\n",
    "i = 0\n",
    "numY = 0\n",
    "for i in range(len(Y)):\n",
    "    for j in range(nC):\n",
    "        if Y[i] == IC[cdx[j]]:\n",
    "            numY += 1\n",
    "\n",
    "YY = np.zeros((numY))\n",
    "XX = np.zeros((numY,nF))\n",
    "if (len(fdx) == 1):\n",
    "    XXzeros0 = (0. * XX) + .2\n",
    "    XXzeros1 = (0. * XX) \n",
    "    XXzeros2 = (0. * XX) - .2\n",
    "\n",
    "j = 0\n",
    "for i in range(len(Y)):\n",
    "    for k in range(nC):\n",
    "        if Y[i] == IC[cdx[k]]:        \n",
    "            YY[j] = IC[cdx[k]]\n",
    "            for m in range(nF):\n",
    "                XX[j,m] = X[i,fdx[m]] \n",
    "            j += 1\n",
    "            \n",
    "# fit the model\n",
    "\n",
    "# clf = Perceptron(tol=1e-4, random_state=0)\n",
    "clf = SGDClassifier(tol=1e-4, random_state=0)\n",
    "\n",
    "clf.fit(XX,YY)\n",
    "\n",
    "print('\\nScore: ',clf.score(XX,YY))"
   ]
  },
  {
   "cell_type": "markdown",
   "id": "373a6867",
   "metadata": {},
   "source": [
    "#### 14. Sepal Width, Petal Length & Petal Width"
   ]
  },
  {
   "cell_type": "code",
   "execution_count": 74,
   "id": "15201cf2",
   "metadata": {},
   "outputs": [
    {
     "name": "stdout",
     "output_type": "stream",
     "text": [
      "\n",
      "Score:  0.9\n"
     ]
    }
   ],
   "source": [
    "# choose the classes and features to be included in the model\n",
    "\n",
    "cdx = np.array([1,2])             # this array contains the classes to be considered (can be 2-3 classes)\n",
    "fdx = np.array([1,2,3])           # this array contains the features to be considered (can be 1-4 features)\n",
    "\n",
    "nC = len(cdx)\n",
    "nF = len(fdx)\n",
    "\n",
    "# build the XX and YY arrays\n",
    "# these arrays contain the samples in the classes specified in cdx and include the features specified in fdx\n",
    "\n",
    "i = 0\n",
    "numY = 0\n",
    "for i in range(len(Y)):\n",
    "    for j in range(nC):\n",
    "        if Y[i] == IC[cdx[j]]:\n",
    "            numY += 1\n",
    "\n",
    "YY = np.zeros((numY))\n",
    "XX = np.zeros((numY,nF))\n",
    "if (len(fdx) == 1):\n",
    "    XXzeros0 = (0. * XX) + .2\n",
    "    XXzeros1 = (0. * XX) \n",
    "    XXzeros2 = (0. * XX) - .2\n",
    "\n",
    "j = 0\n",
    "for i in range(len(Y)):\n",
    "    for k in range(nC):\n",
    "        if Y[i] == IC[cdx[k]]:        \n",
    "            YY[j] = IC[cdx[k]]\n",
    "            for m in range(nF):\n",
    "                XX[j,m] = X[i,fdx[m]] \n",
    "            j += 1\n",
    "            \n",
    "# fit the model\n",
    "\n",
    "# clf = Perceptron(tol=1e-4, random_state=0)\n",
    "clf = SGDClassifier(tol=1e-4, random_state=0)\n",
    "\n",
    "clf.fit(XX,YY)\n",
    "\n",
    "print('\\nScore: ',clf.score(XX,YY))"
   ]
  },
  {
   "cell_type": "markdown",
   "id": "59867e91",
   "metadata": {},
   "source": [
    "### Four Features\n",
    "\n",
    "#### 15. Sepal Length, Sepal Width, Petal Length, & Petal Width"
   ]
  },
  {
   "cell_type": "code",
   "execution_count": 75,
   "id": "0ac5dc42",
   "metadata": {},
   "outputs": [
    {
     "name": "stdout",
     "output_type": "stream",
     "text": [
      "\n",
      "Score:  0.83\n"
     ]
    }
   ],
   "source": [
    "# choose the classes and features to be included in the model\n",
    "\n",
    "cdx = np.array([1,2])             # this array contains the classes to be considered (can be 2-3 classes)\n",
    "fdx = np.array([0,1,2,3])           # this array contains the features to be considered (can be 1-4 features)\n",
    "\n",
    "nC = len(cdx)\n",
    "nF = len(fdx)\n",
    "\n",
    "# build the XX and YY arrays\n",
    "# these arrays contain the samples in the classes specified in cdx and include the features specified in fdx\n",
    "\n",
    "i = 0\n",
    "numY = 0\n",
    "for i in range(len(Y)):\n",
    "    for j in range(nC):\n",
    "        if Y[i] == IC[cdx[j]]:\n",
    "            numY += 1\n",
    "\n",
    "YY = np.zeros((numY))\n",
    "XX = np.zeros((numY,nF))\n",
    "if (len(fdx) == 1):\n",
    "    XXzeros0 = (0. * XX) + .2\n",
    "    XXzeros1 = (0. * XX) \n",
    "    XXzeros2 = (0. * XX) - .2\n",
    "\n",
    "j = 0\n",
    "for i in range(len(Y)):\n",
    "    for k in range(nC):\n",
    "        if Y[i] == IC[cdx[k]]:        \n",
    "            YY[j] = IC[cdx[k]]\n",
    "            for m in range(nF):\n",
    "                XX[j,m] = X[i,fdx[m]] \n",
    "            j += 1\n",
    "            \n",
    "# fit the model\n",
    "\n",
    "# clf = Perceptron(tol=1e-4, random_state=0)\n",
    "clf = SGDClassifier(tol=1e-4, random_state=0)\n",
    "\n",
    "clf.fit(XX,YY)\n",
    "\n",
    "print('\\nScore: ',clf.score(XX,YY))"
   ]
  },
  {
   "cell_type": "markdown",
   "id": "f11e3c7f",
   "metadata": {},
   "source": [
    "\n",
    "SL = Sepal Length <br>\n",
    "SW = Sepal Width <br>\n",
    "PL = Petal Length <br>\n",
    "PW = Petal Width <br>\n",
    "    \n",
    "    \n",
    "## Result\n",
    "\n",
    "| Features | Accuracy |\n",
    "| --- | --- |\n",
    "| SL      | 0.51 |\n",
    "| SW      | 0.6 |\n",
    "| PL      | 0.84 |\n",
    "| PW      | 0.84 |\n",
    "| SL - SW | 0.74 |\n",
    "| SL - PL | 0.92 |\n",
    "| SL - PW | 0.63 |\n",
    "| SW - PL | 0.91 |\n",
    "| SW - PW | 0.87 |\n",
    "| PL - PW | 0.9 |\n",
    "| SL - SW - PL | 0.89 |\n",
    "| SL - SW - PW | 0.91 |\n",
    "| SL - PL - PW |0.75  |\n",
    "| SW - PL - PW | 0.9 |\n",
    "| SL - SW - PL - PW | 0.83 |"
   ]
  },
  {
   "cell_type": "markdown",
   "id": "72fd03ec",
   "metadata": {},
   "source": [
    "The results of the model over this data subset show less accuracy over the combination of these two classes. I think features may still play a role but now I must consider the role the classes play in accuracy as this combination of classes did not result in the model having 100% accuracy. Instead there was alot of variety in the range of scores."
   ]
  },
  {
   "cell_type": "markdown",
   "id": "c3aa611f",
   "metadata": {},
   "source": [
    "# Three Classes "
   ]
  },
  {
   "cell_type": "markdown",
   "id": "130766f2",
   "metadata": {},
   "source": [
    "## Setosa, Versicolor and Virginica\n",
    "\n",
    "### One Feature\n",
    "\n",
    "#### 1. Sepal Length (cm)"
   ]
  },
  {
   "cell_type": "code",
   "execution_count": 76,
   "id": "dbc8f0e0",
   "metadata": {},
   "outputs": [
    {
     "name": "stdout",
     "output_type": "stream",
     "text": [
      "\n",
      "Score:  0.68\n"
     ]
    }
   ],
   "source": [
    "# choose the classes and features to be included in the model\n",
    "\n",
    "cdx = np.array([0,1,2])             # this array contains the classes to be considered (can be 2-3 classes)\n",
    "fdx = np.array([0])           # this array contains the features to be considered (can be 1-4 features)\n",
    "\n",
    "nC = len(cdx)\n",
    "nF = len(fdx)\n",
    "\n",
    "# build the XX and YY arrays\n",
    "# these arrays contain the samples in the classes specified in cdx and include the features specified in fdx\n",
    "\n",
    "i = 0\n",
    "numY = 0\n",
    "for i in range(len(Y)):\n",
    "    for j in range(nC):\n",
    "        if Y[i] == IC[cdx[j]]:\n",
    "            numY += 1\n",
    "\n",
    "YY = np.zeros((numY))\n",
    "XX = np.zeros((numY,nF))\n",
    "if (len(fdx) == 1):\n",
    "    XXzeros0 = (0. * XX) + .2\n",
    "    XXzeros1 = (0. * XX) \n",
    "    XXzeros2 = (0. * XX) - .2\n",
    "\n",
    "j = 0\n",
    "for i in range(len(Y)):\n",
    "    for k in range(nC):\n",
    "        if Y[i] == IC[cdx[k]]:        \n",
    "            YY[j] = IC[cdx[k]]\n",
    "            for m in range(nF):\n",
    "                XX[j,m] = X[i,fdx[m]] \n",
    "            j += 1\n",
    "            \n",
    "# fit the model\n",
    "\n",
    "# clf = Perceptron(tol=1e-4, random_state=0)\n",
    "clf = SGDClassifier(tol=1e-4, random_state=0)\n",
    "\n",
    "clf.fit(XX,YY)\n",
    "\n",
    "print('\\nScore: ',clf.score(XX,YY))"
   ]
  },
  {
   "cell_type": "markdown",
   "id": "fe8bf206",
   "metadata": {},
   "source": [
    "The pairing of three classes and a single feature resulted in the model not being as accuracte over the subset pair, this is not surprising as this is a consisent pattern seen over the data especially in regards to this specific feature."
   ]
  },
  {
   "cell_type": "markdown",
   "id": "eae87f3b",
   "metadata": {},
   "source": [
    "#### 2. Sepal Width (cm)"
   ]
  },
  {
   "cell_type": "code",
   "execution_count": 77,
   "id": "1676a4c9",
   "metadata": {},
   "outputs": [
    {
     "name": "stdout",
     "output_type": "stream",
     "text": [
      "\n",
      "Score:  0.52\n"
     ]
    }
   ],
   "source": [
    "# choose the classes and features to be included in the model\n",
    "\n",
    "cdx = np.array([0,1,2])             # this array contains the classes to be considered (can be 2-3 classes)\n",
    "fdx = np.array([1])           # this array contains the features to be considered (can be 1-4 features)\n",
    "\n",
    "nC = len(cdx)\n",
    "nF = len(fdx)\n",
    "\n",
    "# build the XX and YY arrays\n",
    "# these arrays contain the samples in the classes specified in cdx and include the features specified in fdx\n",
    "\n",
    "i = 0\n",
    "numY = 0\n",
    "for i in range(len(Y)):\n",
    "    for j in range(nC):\n",
    "        if Y[i] == IC[cdx[j]]:\n",
    "            numY += 1\n",
    "\n",
    "YY = np.zeros((numY))\n",
    "XX = np.zeros((numY,nF))\n",
    "if (len(fdx) == 1):\n",
    "    XXzeros0 = (0. * XX) + .2\n",
    "    XXzeros1 = (0. * XX) \n",
    "    XXzeros2 = (0. * XX) - .2\n",
    "\n",
    "j = 0\n",
    "for i in range(len(Y)):\n",
    "    for k in range(nC):\n",
    "        if Y[i] == IC[cdx[k]]:        \n",
    "            YY[j] = IC[cdx[k]]\n",
    "            for m in range(nF):\n",
    "                XX[j,m] = X[i,fdx[m]] \n",
    "            j += 1\n",
    "            \n",
    "# fit the model\n",
    "\n",
    "# clf = Perceptron(tol=1e-4, random_state=0)\n",
    "clf = SGDClassifier(tol=1e-4, random_state=0)\n",
    "\n",
    "clf.fit(XX,YY)\n",
    "\n",
    "print('\\nScore: ',clf.score(XX,YY))"
   ]
  },
  {
   "cell_type": "markdown",
   "id": "b3727ed9",
   "metadata": {},
   "source": [
    "The pairing of three classes and a single feature resulted in the model not being as accuracte over the subset pair, this is not surprising as this is a consisent pattern seen over the data especially in regards to this specific feature."
   ]
  },
  {
   "cell_type": "markdown",
   "id": "d4ff0695",
   "metadata": {},
   "source": [
    "#### 3. Petal Length(cm)"
   ]
  },
  {
   "cell_type": "code",
   "execution_count": 78,
   "id": "73eaa317",
   "metadata": {},
   "outputs": [
    {
     "name": "stdout",
     "output_type": "stream",
     "text": [
      "\n",
      "Score:  0.9466666666666667\n"
     ]
    }
   ],
   "source": [
    "# choose the classes and features to be included in the model\n",
    "\n",
    "cdx = np.array([0,1,2])             # this array contains the classes to be considered (can be 2-3 classes)\n",
    "fdx = np.array([2])           # this array contains the features to be considered (can be 1-4 features)\n",
    "\n",
    "nC = len(cdx)\n",
    "nF = len(fdx)\n",
    "\n",
    "# build the XX and YY arrays\n",
    "# these arrays contain the samples in the classes specified in cdx and include the features specified in fdx\n",
    "\n",
    "i = 0\n",
    "numY = 0\n",
    "for i in range(len(Y)):\n",
    "    for j in range(nC):\n",
    "        if Y[i] == IC[cdx[j]]:\n",
    "            numY += 1\n",
    "\n",
    "YY = np.zeros((numY))\n",
    "XX = np.zeros((numY,nF))\n",
    "if (len(fdx) == 1):\n",
    "    XXzeros0 = (0. * XX) + .2\n",
    "    XXzeros1 = (0. * XX) \n",
    "    XXzeros2 = (0. * XX) - .2\n",
    "\n",
    "j = 0\n",
    "for i in range(len(Y)):\n",
    "    for k in range(nC):\n",
    "        if Y[i] == IC[cdx[k]]:        \n",
    "            YY[j] = IC[cdx[k]]\n",
    "            for m in range(nF):\n",
    "                XX[j,m] = X[i,fdx[m]] \n",
    "            j += 1\n",
    "            \n",
    "# fit the model\n",
    "\n",
    "# clf = Perceptron(tol=1e-4, random_state=0)\n",
    "clf = SGDClassifier(tol=1e-4, random_state=0)\n",
    "\n",
    "clf.fit(XX,YY)\n",
    "\n",
    "print('\\nScore: ',clf.score(XX,YY))"
   ]
  },
  {
   "cell_type": "markdown",
   "id": "c31c656a",
   "metadata": {},
   "source": [
    "The model was accurate over this pairing potentially due to the specific feature."
   ]
  },
  {
   "cell_type": "markdown",
   "id": "349bba57",
   "metadata": {},
   "source": [
    "#### 4. Petal Width(cm)"
   ]
  },
  {
   "cell_type": "code",
   "execution_count": 79,
   "id": "6fd78d2f",
   "metadata": {},
   "outputs": [
    {
     "name": "stdout",
     "output_type": "stream",
     "text": [
      "\n",
      "Score:  0.96\n"
     ]
    }
   ],
   "source": [
    "# choose the classes and features to be included in the model\n",
    "\n",
    "cdx = np.array([0,1,2])             # this array contains the classes to be considered (can be 2-3 classes)\n",
    "fdx = np.array([3])           # this array contains the features to be considered (can be 1-4 features)\n",
    "\n",
    "nC = len(cdx)\n",
    "nF = len(fdx)\n",
    "\n",
    "# build the XX and YY arrays\n",
    "# these arrays contain the samples in the classes specified in cdx and include the features specified in fdx\n",
    "\n",
    "i = 0\n",
    "numY = 0\n",
    "for i in range(len(Y)):\n",
    "    for j in range(nC):\n",
    "        if Y[i] == IC[cdx[j]]:\n",
    "            numY += 1\n",
    "\n",
    "YY = np.zeros((numY))\n",
    "XX = np.zeros((numY,nF))\n",
    "if (len(fdx) == 1):\n",
    "    XXzeros0 = (0. * XX) + .2\n",
    "    XXzeros1 = (0. * XX) \n",
    "    XXzeros2 = (0. * XX) - .2\n",
    "\n",
    "j = 0\n",
    "for i in range(len(Y)):\n",
    "    for k in range(nC):\n",
    "        if Y[i] == IC[cdx[k]]:        \n",
    "            YY[j] = IC[cdx[k]]\n",
    "            for m in range(nF):\n",
    "                XX[j,m] = X[i,fdx[m]] \n",
    "            j += 1\n",
    "            \n",
    "# fit the model\n",
    "\n",
    "# clf = Perceptron(tol=1e-4, random_state=0)\n",
    "clf = SGDClassifier(tol=1e-4, random_state=0)\n",
    "\n",
    "clf.fit(XX,YY)\n",
    "\n",
    "print('\\nScore: ',clf.score(XX,YY))"
   ]
  },
  {
   "cell_type": "markdown",
   "id": "adb2aa8c",
   "metadata": {},
   "source": [
    "The model was accurate over this pairing potentially due to the specific feature."
   ]
  },
  {
   "cell_type": "markdown",
   "id": "04e3bbe8",
   "metadata": {},
   "source": [
    "### Two Features\n",
    "\n",
    "#### 5. Sepal Length & Sepal Width"
   ]
  },
  {
   "cell_type": "code",
   "execution_count": 80,
   "id": "06614aeb",
   "metadata": {},
   "outputs": [
    {
     "name": "stdout",
     "output_type": "stream",
     "text": [
      "\n",
      "Score:  0.7733333333333333\n"
     ]
    }
   ],
   "source": [
    "# choose the classes and features to be included in the model\n",
    "\n",
    "cdx = np.array([0,1,2])             # this array contains the classes to be considered (can be 2-3 classes)\n",
    "fdx = np.array([0,1])           # this array contains the features to be considered (can be 1-4 features)\n",
    "\n",
    "nC = len(cdx)\n",
    "nF = len(fdx)\n",
    "\n",
    "# build the XX and YY arrays\n",
    "# these arrays contain the samples in the classes specified in cdx and include the features specified in fdx\n",
    "\n",
    "i = 0\n",
    "numY = 0\n",
    "for i in range(len(Y)):\n",
    "    for j in range(nC):\n",
    "        if Y[i] == IC[cdx[j]]:\n",
    "            numY += 1\n",
    "\n",
    "YY = np.zeros((numY))\n",
    "XX = np.zeros((numY,nF))\n",
    "if (len(fdx) == 1):\n",
    "    XXzeros0 = (0. * XX) + .2\n",
    "    XXzeros1 = (0. * XX) \n",
    "    XXzeros2 = (0. * XX) - .2\n",
    "\n",
    "j = 0\n",
    "for i in range(len(Y)):\n",
    "    for k in range(nC):\n",
    "        if Y[i] == IC[cdx[k]]:        \n",
    "            YY[j] = IC[cdx[k]]\n",
    "            for m in range(nF):\n",
    "                XX[j,m] = X[i,fdx[m]] \n",
    "            j += 1\n",
    "            \n",
    "# fit the model\n",
    "\n",
    "# clf = Perceptron(tol=1e-4, random_state=0)\n",
    "clf = SGDClassifier(tol=1e-4, random_state=0)\n",
    "\n",
    "clf.fit(XX,YY)\n",
    "\n",
    "print('\\nScore: ',clf.score(XX,YY))"
   ]
  },
  {
   "cell_type": "markdown",
   "id": "14455b4b",
   "metadata": {},
   "source": [
    "Three feature pairings should more accurasy in the previous data subset and this seems to hold true for this one, although not 100% accurate the score is higher than the previous subset pairs."
   ]
  },
  {
   "cell_type": "markdown",
   "id": "24617256",
   "metadata": {},
   "source": [
    "#### 6. Sepal Length & Petal Length"
   ]
  },
  {
   "cell_type": "code",
   "execution_count": 81,
   "id": "9055a789",
   "metadata": {},
   "outputs": [
    {
     "name": "stdout",
     "output_type": "stream",
     "text": [
      "\n",
      "Score:  0.8733333333333333\n"
     ]
    }
   ],
   "source": [
    "# choose the classes and features to be included in the model\n",
    "\n",
    "cdx = np.array([0,1,2])             # this array contains the classes to be considered (can be 2-3 classes)\n",
    "fdx = np.array([0,2])           # this array contains the features to be considered (can be 1-4 features)\n",
    "\n",
    "nC = len(cdx)\n",
    "nF = len(fdx)\n",
    "\n",
    "# build the XX and YY arrays\n",
    "# these arrays contain the samples in the classes specified in cdx and include the features specified in fdx\n",
    "\n",
    "i = 0\n",
    "numY = 0\n",
    "for i in range(len(Y)):\n",
    "    for j in range(nC):\n",
    "        if Y[i] == IC[cdx[j]]:\n",
    "            numY += 1\n",
    "\n",
    "YY = np.zeros((numY))\n",
    "XX = np.zeros((numY,nF))\n",
    "if (len(fdx) == 1):\n",
    "    XXzeros0 = (0. * XX) + .2\n",
    "    XXzeros1 = (0. * XX) \n",
    "    XXzeros2 = (0. * XX) - .2\n",
    "\n",
    "j = 0\n",
    "for i in range(len(Y)):\n",
    "    for k in range(nC):\n",
    "        if Y[i] == IC[cdx[k]]:        \n",
    "            YY[j] = IC[cdx[k]]\n",
    "            for m in range(nF):\n",
    "                XX[j,m] = X[i,fdx[m]] \n",
    "            j += 1\n",
    "            \n",
    "# fit the model\n",
    "\n",
    "# clf = Perceptron(tol=1e-4, random_state=0)\n",
    "clf = SGDClassifier(tol=1e-4, random_state=0)\n",
    "\n",
    "clf.fit(XX,YY)\n",
    "\n",
    "print('\\nScore: ',clf.score(XX,YY))"
   ]
  },
  {
   "cell_type": "markdown",
   "id": "836337fb",
   "metadata": {},
   "source": [
    "As stated previously pairs with more features seem to show relatively more accuracy  but the inclusion of more classes actually changes my mind about the idea that our model is a generally good model, it appears to be a simple model, as it did best with pairs of two classes and specific class combinations."
   ]
  },
  {
   "cell_type": "markdown",
   "id": "90dbd053",
   "metadata": {},
   "source": [
    "#### 7.Sepal Length & Petal Width"
   ]
  },
  {
   "cell_type": "code",
   "execution_count": 82,
   "id": "8078fe9e",
   "metadata": {},
   "outputs": [
    {
     "name": "stdout",
     "output_type": "stream",
     "text": [
      "\n",
      "Score:  0.94\n"
     ]
    }
   ],
   "source": [
    "# choose the classes and features to be included in the model\n",
    "\n",
    "cdx = np.array([0,1,2])             # this array contains the classes to be considered (can be 2-3 classes)\n",
    "fdx = np.array([0,3])           # this array contains the features to be considered (can be 1-4 features)\n",
    "\n",
    "nC = len(cdx)\n",
    "nF = len(fdx)\n",
    "\n",
    "# build the XX and YY arrays\n",
    "# these arrays contain the samples in the classes specified in cdx and include the features specified in fdx\n",
    "\n",
    "i = 0\n",
    "numY = 0\n",
    "for i in range(len(Y)):\n",
    "    for j in range(nC):\n",
    "        if Y[i] == IC[cdx[j]]:\n",
    "            numY += 1\n",
    "\n",
    "YY = np.zeros((numY))\n",
    "XX = np.zeros((numY,nF))\n",
    "if (len(fdx) == 1):\n",
    "    XXzeros0 = (0. * XX) + .2\n",
    "    XXzeros1 = (0. * XX) \n",
    "    XXzeros2 = (0. * XX) - .2\n",
    "\n",
    "j = 0\n",
    "for i in range(len(Y)):\n",
    "    for k in range(nC):\n",
    "        if Y[i] == IC[cdx[k]]:        \n",
    "            YY[j] = IC[cdx[k]]\n",
    "            for m in range(nF):\n",
    "                XX[j,m] = X[i,fdx[m]] \n",
    "            j += 1\n",
    "            \n",
    "# fit the model\n",
    "\n",
    "# clf = Perceptron(tol=1e-4, random_state=0)\n",
    "clf = SGDClassifier(tol=1e-4, random_state=0)\n",
    "\n",
    "clf.fit(XX,YY)\n",
    "\n",
    "print('\\nScore: ',clf.score(XX,YY))"
   ]
  },
  {
   "cell_type": "markdown",
   "id": "5d7ecc87",
   "metadata": {},
   "source": [
    "#### 8. Sepal width & Petal length"
   ]
  },
  {
   "cell_type": "code",
   "execution_count": 83,
   "id": "8a8f5bbb",
   "metadata": {},
   "outputs": [
    {
     "name": "stdout",
     "output_type": "stream",
     "text": [
      "\n",
      "Score:  0.8866666666666667\n"
     ]
    }
   ],
   "source": [
    "# choose the classes and features to be included in the model\n",
    "\n",
    "cdx = np.array([0,1,2])             # this array contains the classes to be considered (can be 2-3 classes)\n",
    "fdx = np.array([1,2])           # this array contains the features to be considered (can be 1-4 features)\n",
    "\n",
    "nC = len(cdx)\n",
    "nF = len(fdx)\n",
    "\n",
    "# build the XX and YY arrays\n",
    "# these arrays contain the samples in the classes specified in cdx and include the features specified in fdx\n",
    "\n",
    "i = 0\n",
    "numY = 0\n",
    "for i in range(len(Y)):\n",
    "    for j in range(nC):\n",
    "        if Y[i] == IC[cdx[j]]:\n",
    "            numY += 1\n",
    "\n",
    "YY = np.zeros((numY))\n",
    "XX = np.zeros((numY,nF))\n",
    "if (len(fdx) == 1):\n",
    "    XXzeros0 = (0. * XX) + .2\n",
    "    XXzeros1 = (0. * XX) \n",
    "    XXzeros2 = (0. * XX) - .2\n",
    "\n",
    "j = 0\n",
    "for i in range(len(Y)):\n",
    "    for k in range(nC):\n",
    "        if Y[i] == IC[cdx[k]]:        \n",
    "            YY[j] = IC[cdx[k]]\n",
    "            for m in range(nF):\n",
    "                XX[j,m] = X[i,fdx[m]] \n",
    "            j += 1\n",
    "            \n",
    "# fit the model\n",
    "\n",
    "# clf = Perceptron(tol=1e-4, random_state=0)\n",
    "clf = SGDClassifier(tol=1e-4, random_state=0)\n",
    "\n",
    "clf.fit(XX,YY)\n",
    "\n",
    "print('\\nScore: ',clf.score(XX,YY))"
   ]
  },
  {
   "cell_type": "markdown",
   "id": "2320eb61",
   "metadata": {},
   "source": [
    "#### 9. Sepal Width & Petal Width"
   ]
  },
  {
   "cell_type": "code",
   "execution_count": 84,
   "id": "87408451",
   "metadata": {},
   "outputs": [
    {
     "name": "stdout",
     "output_type": "stream",
     "text": [
      "\n",
      "Score:  0.8933333333333333\n"
     ]
    }
   ],
   "source": [
    "# choose the classes and features to be included in the model\n",
    "\n",
    "cdx = np.array([0,1,2])             # this array contains the classes to be considered (can be 2-3 classes)\n",
    "fdx = np.array([1,3])           # this array contains the features to be considered (can be 1-4 features)\n",
    "\n",
    "nC = len(cdx)\n",
    "nF = len(fdx)\n",
    "\n",
    "# build the XX and YY arrays\n",
    "# these arrays contain the samples in the classes specified in cdx and include the features specified in fdx\n",
    "\n",
    "i = 0\n",
    "numY = 0\n",
    "for i in range(len(Y)):\n",
    "    for j in range(nC):\n",
    "        if Y[i] == IC[cdx[j]]:\n",
    "            numY += 1\n",
    "\n",
    "YY = np.zeros((numY))\n",
    "XX = np.zeros((numY,nF))\n",
    "if (len(fdx) == 1):\n",
    "    XXzeros0 = (0. * XX) + .2\n",
    "    XXzeros1 = (0. * XX) \n",
    "    XXzeros2 = (0. * XX) - .2\n",
    "\n",
    "j = 0\n",
    "for i in range(len(Y)):\n",
    "    for k in range(nC):\n",
    "        if Y[i] == IC[cdx[k]]:        \n",
    "            YY[j] = IC[cdx[k]]\n",
    "            for m in range(nF):\n",
    "                XX[j,m] = X[i,fdx[m]] \n",
    "            j += 1\n",
    "            \n",
    "# fit the model\n",
    "\n",
    "# clf = Perceptron(tol=1e-4, random_state=0)\n",
    "clf = SGDClassifier(tol=1e-4, random_state=0)\n",
    "\n",
    "clf.fit(XX,YY)\n",
    "\n",
    "print('\\nScore: ',clf.score(XX,YY))"
   ]
  },
  {
   "cell_type": "markdown",
   "id": "339b6acd",
   "metadata": {},
   "source": [
    "#### 10. Petal Length & Petal Width"
   ]
  },
  {
   "cell_type": "code",
   "execution_count": 85,
   "id": "cef7926e",
   "metadata": {},
   "outputs": [
    {
     "name": "stdout",
     "output_type": "stream",
     "text": [
      "\n",
      "Score:  0.96\n"
     ]
    }
   ],
   "source": [
    "# choose the classes and features to be included in the model\n",
    "\n",
    "cdx = np.array([0,1,2])             # this array contains the classes to be considered (can be 2-3 classes)\n",
    "fdx = np.array([2,3])           # this array contains the features to be considered (can be 1-4 features)\n",
    "\n",
    "nC = len(cdx)\n",
    "nF = len(fdx)\n",
    "\n",
    "# build the XX and YY arrays\n",
    "# these arrays contain the samples in the classes specified in cdx and include the features specified in fdx\n",
    "\n",
    "i = 0\n",
    "numY = 0\n",
    "for i in range(len(Y)):\n",
    "    for j in range(nC):\n",
    "        if Y[i] == IC[cdx[j]]:\n",
    "            numY += 1\n",
    "\n",
    "YY = np.zeros((numY))\n",
    "XX = np.zeros((numY,nF))\n",
    "if (len(fdx) == 1):\n",
    "    XXzeros0 = (0. * XX) + .2\n",
    "    XXzeros1 = (0. * XX) \n",
    "    XXzeros2 = (0. * XX) - .2\n",
    "\n",
    "j = 0\n",
    "for i in range(len(Y)):\n",
    "    for k in range(nC):\n",
    "        if Y[i] == IC[cdx[k]]:        \n",
    "            YY[j] = IC[cdx[k]]\n",
    "            for m in range(nF):\n",
    "                XX[j,m] = X[i,fdx[m]] \n",
    "            j += 1\n",
    "            \n",
    "# fit the model\n",
    "\n",
    "# clf = Perceptron(tol=1e-4, random_state=0)\n",
    "clf = SGDClassifier(tol=1e-4, random_state=0)\n",
    "\n",
    "clf.fit(XX,YY)\n",
    "\n",
    "print('\\nScore: ',clf.score(XX,YY))"
   ]
  },
  {
   "cell_type": "markdown",
   "id": "57b5d1b1",
   "metadata": {},
   "source": [
    "### Three Features\n",
    "\n",
    "#### 11. Sepal Length, Sepal Width & Petal Length"
   ]
  },
  {
   "cell_type": "code",
   "execution_count": 86,
   "id": "10317233",
   "metadata": {},
   "outputs": [
    {
     "name": "stdout",
     "output_type": "stream",
     "text": [
      "\n",
      "Score:  0.8866666666666667\n"
     ]
    }
   ],
   "source": [
    "# choose the classes and features to be included in the model\n",
    "\n",
    "cdx = np.array([0,1,2])             # this array contains the classes to be considered (can be 2-3 classes)\n",
    "fdx = np.array([0,1,2])           # this array contains the features to be considered (can be 1-4 features)\n",
    "\n",
    "nC = len(cdx)\n",
    "nF = len(fdx)\n",
    "\n",
    "# build the XX and YY arrays\n",
    "# these arrays contain the samples in the classes specified in cdx and include the features specified in fdx\n",
    "\n",
    "i = 0\n",
    "numY = 0\n",
    "for i in range(len(Y)):\n",
    "    for j in range(nC):\n",
    "        if Y[i] == IC[cdx[j]]:\n",
    "            numY += 1\n",
    "\n",
    "YY = np.zeros((numY))\n",
    "XX = np.zeros((numY,nF))\n",
    "if (len(fdx) == 1):\n",
    "    XXzeros0 = (0. * XX) + .2\n",
    "    XXzeros1 = (0. * XX) \n",
    "    XXzeros2 = (0. * XX) - .2\n",
    "\n",
    "j = 0\n",
    "for i in range(len(Y)):\n",
    "    for k in range(nC):\n",
    "        if Y[i] == IC[cdx[k]]:        \n",
    "            YY[j] = IC[cdx[k]]\n",
    "            for m in range(nF):\n",
    "                XX[j,m] = X[i,fdx[m]] \n",
    "            j += 1\n",
    "            \n",
    "# fit the model\n",
    "\n",
    "# clf = Perceptron(tol=1e-4, random_state=0)\n",
    "clf = SGDClassifier(tol=1e-4, random_state=0)\n",
    "\n",
    "clf.fit(XX,YY)\n",
    "\n",
    "print('\\nScore: ',clf.score(XX,YY))"
   ]
  },
  {
   "cell_type": "markdown",
   "id": "bf7b8680",
   "metadata": {},
   "source": [
    "#### 12. Sepal Length, Sepal Width & Petal Width"
   ]
  },
  {
   "cell_type": "code",
   "execution_count": 87,
   "id": "27c46a06",
   "metadata": {},
   "outputs": [
    {
     "name": "stdout",
     "output_type": "stream",
     "text": [
      "\n",
      "Score:  0.9266666666666666\n"
     ]
    }
   ],
   "source": [
    "# choose the classes and features to be included in the model\n",
    "\n",
    "cdx = np.array([0,1,2])             # this array contains the classes to be considered (can be 2-3 classes)\n",
    "fdx = np.array([0,1,3])           # this array contains the features to be considered (can be 1-4 features)\n",
    "\n",
    "nC = len(cdx)\n",
    "nF = len(fdx)\n",
    "\n",
    "# build the XX and YY arrays\n",
    "# these arrays contain the samples in the classes specified in cdx and include the features specified in fdx\n",
    "\n",
    "i = 0\n",
    "numY = 0\n",
    "for i in range(len(Y)):\n",
    "    for j in range(nC):\n",
    "        if Y[i] == IC[cdx[j]]:\n",
    "            numY += 1\n",
    "\n",
    "YY = np.zeros((numY))\n",
    "XX = np.zeros((numY,nF))\n",
    "if (len(fdx) == 1):\n",
    "    XXzeros0 = (0. * XX) + .2\n",
    "    XXzeros1 = (0. * XX) \n",
    "    XXzeros2 = (0. * XX) - .2\n",
    "\n",
    "j = 0\n",
    "for i in range(len(Y)):\n",
    "    for k in range(nC):\n",
    "        if Y[i] == IC[cdx[k]]:        \n",
    "            YY[j] = IC[cdx[k]]\n",
    "            for m in range(nF):\n",
    "                XX[j,m] = X[i,fdx[m]] \n",
    "            j += 1\n",
    "            \n",
    "# fit the model\n",
    "\n",
    "# clf = Perceptron(tol=1e-4, random_state=0)\n",
    "clf = SGDClassifier(tol=1e-4, random_state=0)\n",
    "\n",
    "clf.fit(XX,YY)\n",
    "\n",
    "print('\\nScore: ',clf.score(XX,YY))"
   ]
  },
  {
   "cell_type": "markdown",
   "id": "1f0af4eb",
   "metadata": {},
   "source": [
    "#### 13. Sepal Length, Petal Length & Petal Width"
   ]
  },
  {
   "cell_type": "code",
   "execution_count": 88,
   "id": "ec56b250",
   "metadata": {},
   "outputs": [
    {
     "name": "stdout",
     "output_type": "stream",
     "text": [
      "\n",
      "Score:  0.7933333333333333\n"
     ]
    }
   ],
   "source": [
    "# choose the classes and features to be included in the model\n",
    "\n",
    "cdx = np.array([0,1,2])             # this array contains the classes to be considered (can be 2-3 classes)\n",
    "fdx = np.array([0,2,3])           # this array contains the features to be considered (can be 1-4 features)\n",
    "\n",
    "nC = len(cdx)\n",
    "nF = len(fdx)\n",
    "\n",
    "# build the XX and YY arrays\n",
    "# these arrays contain the samples in the classes specified in cdx and include the features specified in fdx\n",
    "\n",
    "i = 0\n",
    "numY = 0\n",
    "for i in range(len(Y)):\n",
    "    for j in range(nC):\n",
    "        if Y[i] == IC[cdx[j]]:\n",
    "            numY += 1\n",
    "\n",
    "YY = np.zeros((numY))\n",
    "XX = np.zeros((numY,nF))\n",
    "if (len(fdx) == 1):\n",
    "    XXzeros0 = (0. * XX) + .2\n",
    "    XXzeros1 = (0. * XX) \n",
    "    XXzeros2 = (0. * XX) - .2\n",
    "\n",
    "j = 0\n",
    "for i in range(len(Y)):\n",
    "    for k in range(nC):\n",
    "        if Y[i] == IC[cdx[k]]:        \n",
    "            YY[j] = IC[cdx[k]]\n",
    "            for m in range(nF):\n",
    "                XX[j,m] = X[i,fdx[m]] \n",
    "            j += 1\n",
    "            \n",
    "# fit the model\n",
    "\n",
    "# clf = Perceptron(tol=1e-4, random_state=0)\n",
    "clf = SGDClassifier(tol=1e-4, random_state=0)\n",
    "\n",
    "clf.fit(XX,YY)\n",
    "\n",
    "print('\\nScore: ',clf.score(XX,YY))"
   ]
  },
  {
   "cell_type": "markdown",
   "id": "6a75ba0f",
   "metadata": {},
   "source": [
    "#### 14. Sepal Width, Petal Length & Petal Width"
   ]
  },
  {
   "cell_type": "code",
   "execution_count": 89,
   "id": "b5b90115",
   "metadata": {},
   "outputs": [
    {
     "name": "stdout",
     "output_type": "stream",
     "text": [
      "\n",
      "Score:  0.9133333333333333\n"
     ]
    }
   ],
   "source": [
    "# choose the classes and features to be included in the model\n",
    "\n",
    "cdx = np.array([0,1,2])             # this array contains the classes to be considered (can be 2-3 classes)\n",
    "fdx = np.array([1,2,3])           # this array contains the features to be considered (can be 1-4 features)\n",
    "\n",
    "nC = len(cdx)\n",
    "nF = len(fdx)\n",
    "\n",
    "# build the XX and YY arrays\n",
    "# these arrays contain the samples in the classes specified in cdx and include the features specified in fdx\n",
    "\n",
    "i = 0\n",
    "numY = 0\n",
    "for i in range(len(Y)):\n",
    "    for j in range(nC):\n",
    "        if Y[i] == IC[cdx[j]]:\n",
    "            numY += 1\n",
    "\n",
    "YY = np.zeros((numY))\n",
    "XX = np.zeros((numY,nF))\n",
    "if (len(fdx) == 1):\n",
    "    XXzeros0 = (0. * XX) + .2\n",
    "    XXzeros1 = (0. * XX) \n",
    "    XXzeros2 = (0. * XX) - .2\n",
    "\n",
    "j = 0\n",
    "for i in range(len(Y)):\n",
    "    for k in range(nC):\n",
    "        if Y[i] == IC[cdx[k]]:        \n",
    "            YY[j] = IC[cdx[k]]\n",
    "            for m in range(nF):\n",
    "                XX[j,m] = X[i,fdx[m]] \n",
    "            j += 1\n",
    "            \n",
    "# fit the model\n",
    "\n",
    "# clf = Perceptron(tol=1e-4, random_state=0)\n",
    "clf = SGDClassifier(tol=1e-4, random_state=0)\n",
    "\n",
    "clf.fit(XX,YY)\n",
    "\n",
    "print('\\nScore: ',clf.score(XX,YY))"
   ]
  },
  {
   "cell_type": "markdown",
   "id": "7301dccc",
   "metadata": {},
   "source": [
    "### Four Features\n",
    "\n",
    "#### 15. Sepal Length, Sepal Width, Petal Length, & Petal Width"
   ]
  },
  {
   "cell_type": "code",
   "execution_count": 90,
   "id": "27897ce8",
   "metadata": {},
   "outputs": [
    {
     "name": "stdout",
     "output_type": "stream",
     "text": [
      "\n",
      "Score:  0.9666666666666667\n"
     ]
    }
   ],
   "source": [
    "# choose the classes and features to be included in the model\n",
    "\n",
    "cdx = np.array([0,1,2])             # this array contains the classes to be considered (can be 2-3 classes)\n",
    "fdx = np.array([0,1,2,3])           # this array contains the features to be considered (can be 1-4 features)\n",
    "\n",
    "nC = len(cdx)\n",
    "nF = len(fdx)\n",
    "\n",
    "# build the XX and YY arrays\n",
    "# these arrays contain the samples in the classes specified in cdx and include the features specified in fdx\n",
    "\n",
    "i = 0\n",
    "numY = 0\n",
    "for i in range(len(Y)):\n",
    "    for j in range(nC):\n",
    "        if Y[i] == IC[cdx[j]]:\n",
    "            numY += 1\n",
    "\n",
    "YY = np.zeros((numY))\n",
    "XX = np.zeros((numY,nF))\n",
    "if (len(fdx) == 1):\n",
    "    XXzeros0 = (0. * XX) + .2\n",
    "    XXzeros1 = (0. * XX) \n",
    "    XXzeros2 = (0. * XX) - .2\n",
    "\n",
    "j = 0\n",
    "for i in range(len(Y)):\n",
    "    for k in range(nC):\n",
    "        if Y[i] == IC[cdx[k]]:        \n",
    "            YY[j] = IC[cdx[k]]\n",
    "            for m in range(nF):\n",
    "                XX[j,m] = X[i,fdx[m]] \n",
    "            j += 1\n",
    "            \n",
    "# fit the model\n",
    "\n",
    "# clf = Perceptron(tol=1e-4, random_state=0)\n",
    "clf = SGDClassifier(tol=1e-4, random_state=0)\n",
    "\n",
    "clf.fit(XX,YY)\n",
    "\n",
    "print('\\nScore: ',clf.score(XX,YY))"
   ]
  },
  {
   "cell_type": "markdown",
   "id": "9e6a3172",
   "metadata": {},
   "source": [
    "# SL = Sepal Length <br>\n",
    "SW = Sepal Width <br>\n",
    "PL = Petal Length <br>\n",
    "PW = Petal Width <br>\n",
    "    \n",
    "    \n",
    "## Result\n",
    "\n",
    "| Features | Accuracy |\n",
    "| --- | --- |\n",
    "| SL      | 0.68 |\n",
    "| SW      | 0.52 |\n",
    "| PL      | 0.9466666666666667 |\n",
    "| PW      | 0.96 |\n",
    "| SL - SW | 0.7733333333333333 |\n",
    "| SL - PL | 0.8733333333333333 |\n",
    "| SL - PW | 0.94 |\n",
    "| SW - PL | 0.8866666666666667 |\n",
    "| SW - PW | 0.8933333333333333 |\n",
    "| PL - PW | 0.96 |\n",
    "| SL - SW - PL | 0.8866666666666667 |\n",
    "| SL - SW - PW | 0.9266666666666666 |\n",
    "| SL - PL - PW | 0.7933333333333333 |\n",
    "| SW - PL - PW | 0.9133333333333333 |\n",
    "| SL - SW - PL - PW | 0.9666666666666667 |"
   ]
  },
  {
   "cell_type": "markdown",
   "id": "37ed0d2e",
   "metadata": {},
   "source": [
    "The result of the model over this data subset shows that for this particular subset the model shows more accuracy with more features but alludes to bigger issues with the model."
   ]
  },
  {
   "cell_type": "markdown",
   "id": "1734f755",
   "metadata": {},
   "source": [
    "## Discussion"
   ]
  },
  {
   "cell_type": "markdown",
   "id": "b2641140",
   "metadata": {},
   "source": [
    "The varying of the combinations of features used and the data included affect the accuracy of the model. Orginally I believed this to be exclusive to features but the combination of the features and the classes together ultiamtely affected the model. This is notable as the model was not as accurate for the subset's of βγ and αβγ. The scores were signficantly lother than the other data, the model was not trained as well over these two. Additionally, depending on the feature, specifically sepal length and width you would see signficantly lower accuracy scores when they were a single feature. To reflect on my previous assumptions: (1) That our model is generally a good model as we see overhwleming scores of 1.0, I think it is too naive to describe our model as a \"generally good\" model when we see such variance depending on the classes and features, however, the model did show accuracy over some data, so it is not a total failure. (2) there may be some kind of underfiting with the features of sepal length and sepal width as our least accurate scores always originate from the two. I still believe this to be true because it was a cosnsitent pattern throughout our data and subsets. (3) There is a correlation between amount of features and accuracy, the two features with the least accurate results are always a pair of two classes and only one feature. I believe this to depend on the data (class combinations)."
   ]
  }
 ],
 "metadata": {
  "kernelspec": {
   "display_name": "Python 3",
   "language": "python",
   "name": "python3"
  },
  "language_info": {
   "codemirror_mode": {
    "name": "ipython",
    "version": 3
   },
   "file_extension": ".py",
   "mimetype": "text/x-python",
   "name": "python",
   "nbconvert_exporter": "python",
   "pygments_lexer": "ipython3",
   "version": "3.8.8"
  }
 },
 "nbformat": 4,
 "nbformat_minor": 5
}
